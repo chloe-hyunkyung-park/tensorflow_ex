{
 "cells": [
  {
   "cell_type": "code",
   "execution_count": null,
   "metadata": {},
   "outputs": [],
   "source": [
    "import matplotlib.pyplot as plt\n",
    "\n",
    "#2018년 지역별 인구증가율\n",
    "population_inc = [\n",
    "    0.3, \n",
    "    -0.78,\n",
    "    1.26,\n",
    "    0.03,\n",
    "    1.11,\n",
    "    15.17,\n",
    "    0.24,\n",
    "    -0.24,\n",
    "    -0.47,\n",
    "    -0.77,\n",
    "    -0.37,\n",
    "    -0.85,\n",
    "    -0.41,\n",
    "    -0.27,\n",
    "    0.02,\n",
    "    -0.76,\n",
    "    2.66\n",
    "]\n",
    "\n",
    "#2018년 지역별 고령인구비율\n",
    "population_old = [\n",
    "    12.27,\n",
    "    14.44,\n",
    "    11.87,\n",
    "    18.75,\n",
    "    17.52,\n",
    "    \n",
    "]"
   ]
  }
 ],
 "metadata": {
  "kernelspec": {
   "display_name": "Python 3",
   "language": "python",
   "name": "python3"
  },
  "language_info": {
   "codemirror_mode": {
    "name": "ipython",
    "version": 3
   },
   "file_extension": ".py",
   "mimetype": "text/x-python",
   "name": "python",
   "nbconvert_exporter": "python",
   "pygments_lexer": "ipython3",
   "version": "3.7.3"
  }
 },
 "nbformat": 4,
 "nbformat_minor": 2
}
