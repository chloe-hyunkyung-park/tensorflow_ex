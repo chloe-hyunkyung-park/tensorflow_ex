{
 "cells": [
  {
   "cell_type": "code",
   "execution_count": 1,
   "metadata": {},
   "outputs": [],
   "source": [
    "import matplotlib.pyplot as plt\n",
    "\n",
    "#2018년 지역별 인구증가율\n",
    "population_inc = [\n",
    "    0.3, \n",
    "    -0.78,\n",
    "    1.26,\n",
    "    0.03,\n",
    "    1.11,\n",
    "    15.17,\n",
    "    0.24,\n",
    "    -0.24,\n",
    "    -0.47,\n",
    "    -0.77,\n",
    "    -0.37,\n",
    "    -0.85,\n",
    "    -0.41,\n",
    "    -0.27,\n",
    "    0.02,\n",
    "    -0.76,\n",
    "    2.66\n",
    "]\n",
    "\n",
    "#2018년 지역별 고령인구비율\n",
    "population_old = [\n",
    "    12.27,\n",
    "    14.44,\n",
    "    11.87,\n",
    "    18.75,\n",
    "    17.52,\n",
    "    9.29,\n",
    "    16.37,\n",
    "    19.78,\n",
    "    19.51,\n",
    "    12.65,\n",
    "    14.74,\n",
    "    10.72,\n",
    "    21.94,\n",
    "    12.83,\n",
    "    15.51,\n",
    "    17.14,\n",
    "    14.42\n",
    "]"
   ]
  },
  {
   "cell_type": "code",
   "execution_count": 2,
   "metadata": {},
   "outputs": [
    {
     "data": {
      "image/png": "[encoded data removed]",
      "text/plain": [
       "<Figure size 432x288 with 1 Axes>"
      ]
     },
     "metadata": {
      "needs_background": "light"
     },
     "output_type": "display_data"
    }
   ],
   "source": [
    "plt.plot(population_inc, population_old, 'bo')\n",
    "plt.xlabel('population growth rate')\n",
    "plt.ylabel('elderly population rate')\n",
    "plt.show()"
   ]
  },
  {
   "cell_type": "code",
   "execution_count": 3,
   "metadata": {},
   "outputs": [
    {
     "name": "stdout",
     "output_type": "stream",
     "text": [
      "5\n",
      "15.17\n",
      "9.29\n",
      "[After removing the outlier]\n",
      "[0.3, -0.78, 1.26, 0.03, 1.11, 0.24, -0.24, -0.47, -0.77, -0.37, -0.85, -0.41, -0.27, 0.02, -0.76, 2.66]\n",
      "[12.27, 14.44, 11.87, 18.75, 17.52, 16.37, 19.78, 19.51, 12.65, 14.74, 10.72, 21.94, 12.83, 15.51, 17.14, 14.42]\n"
     ]
    }
   ],
   "source": [
    "# 극단치(outlier) 제거\n",
    "outlier = population_inc.index(15.17)\n",
    "print(outlier)\n",
    "\n",
    "print(population_inc.pop(outlier))\n",
    "print(population_old.pop(outlier))\n",
    "\n",
    "print('\\nAfter removing the outlier\\n')\n",
    "print(population_inc)\n",
    "print(population_old)"
   ]
  },
  {
   "cell_type": "code",
   "execution_count": 4,
   "metadata": {},
   "outputs": [],
   "source": [
    "import tensorflow as tf\n",
    "import numpy as np\n",
    "import matplotlib.pyplot as plt\n",
    "import random\n",
    "\n",
    "X = population_inc\n",
    "Y = population_old"
   ]
  },
  {
   "cell_type": "code",
   "execution_count": 25,
   "metadata": {},
   "outputs": [
    {
     "name": "stdout",
     "output_type": "stream",
     "text": [
      "99 a:  0.1007301 b:  7.089539 loss:  83.22264\n",
      "199 a:  -0.13317242 b:  11.501236 loss:  27.113413\n",
      "299 a:  -0.26673347 b:  14.00115 loss:  12.557133\n",
      "399 a:  -0.32687527 b:  15.127129 loss:  10.074091\n",
      "499 a:  -0.34822807 b:  15.526916 loss:  9.801035\n",
      "599 a:  -0.35422778 b:  15.639244 loss:  9.781707\n",
      "699 a:  -0.3555636 b:  15.664256 loss:  9.780828\n",
      "799 a:  -0.35579833 b:  15.66865 loss:  9.780804\n",
      "899 a:  -0.35583046 b:  15.66925 loss:  9.780804\n",
      "999 a:  -0.35583326 b:  15.669303 loss:  9.780805\n"
     ]
    }
   ],
   "source": [
    "# ex4.4 텐서플로를 이용해 회귀선 구하기\n",
    "\n",
    "a = tf.Variable(random.random())\n",
    "b = tf.Variable(random.random())\n",
    "\n",
    "# 잔차 제곱의 평균 반환\n",
    "def compute_loss():\n",
    "    y_pred = a*X + b\n",
    "    loss = tf.reduce_mean((Y - y_pred)**2)\n",
    "    return loss\n",
    "\n",
    "optimizer = tf.optimizers.Adam(lr=0.07)\n",
    "for i in range(1000):\n",
    "    # 잔차 제곱의 평균을 최소화\n",
    "    optimizer.minimize(compute_loss, var_list =[a,b])\n",
    "    if i%100==99:\n",
    "        print(i, 'a: ', a.numpy(), 'b: ', b.numpy(), 'loss: ', compute_loss().numpy())\n",
    "\n",
    "line_x = np.arange(min(X), max(X), 0.01)\n",
    "line_y = a*line_x + b"
   ]
  },
  {
   "cell_type": "code",
   "execution_count": 11,
   "metadata": {},
   "outputs": [
    {
     "data": {
      "image/png": "[encoded data removed]",
      "text/plain": [
       "<Figure size 432x288 with 1 Axes>"
      ]
     },
     "metadata": {
      "needs_background": "light"
     },
     "output_type": "display_data"
    }
   ],
   "source": [
    "plt.plot(line_x, line_y, 'r-')\n",
    "plt.plot(X, Y, 'bo')\n",
    "plt.show()"
   ]
  },
  {
   "cell_type": "code",
   "execution_count": 29,
   "metadata": {},
   "outputs": [
    {
     "name": "stdout",
     "output_type": "stream",
     "text": [
      "99 a:  0.6638021 b:  -3.286913 c:  6.390078 loss:  86.99419\n",
      "199 a:  0.6002807 b:  -2.4495888 c:  10.805354 loss:  31.268045\n",
      "299 a:  0.5037208 b:  -1.2236252 c:  13.509549 loss:  14.108143\n",
      "399 a:  0.40193373 b:  -0.63185734 c:  14.876405 loss:  10.3983965\n",
      "499 a:  0.31323776 b:  -0.43252861 c:  15.4314575 loss:  9.847797\n",
      "599 a:  0.25527525 b:  -0.3838823 c:  15.609278 loss:  9.789984\n",
      "699 a:  0.22024497 b:  -0.3697787 c:  15.654888 loss:  9.783882\n",
      "799 a:  0.1972432 b:  -0.36400378 c:  15.665 loss:  9.78249\n",
      "899 a:  0.18061957 b:  -0.3611041 c:  15.667348 loss:  9.781877\n",
      "999 a:  0.1677349 b:  -0.35946652 c:  15.668116 loss:  9.781541\n"
     ]
    }
   ],
   "source": [
    "# ex4.5 텐서플로를 이용해 2차 함수 회귀선 구하기\n",
    "\n",
    "import tensorflow as tf\n",
    "import numpy as np\n",
    "import matplotlib.pyplot as plt\n",
    "import random\n",
    "\n",
    "a = tf.Variable(random.random())\n",
    "b = tf.Variable(random.random())\n",
    "c = tf.Variable(random.random())\n",
    "\n",
    "# 잔차의 제곱의 평균 반환\n",
    "def compute_loss():\n",
    "    y_pred = (a*X)**5 + b * X + c\n",
    "    loss = tf.reduce_mean((Y - y_pred)**2)\n",
    "    return loss\n",
    "\n",
    "optimizer = tf.keras.optimizers.Adam(lr=0.07)\n",
    "for i in range(1000):\n",
    "    optimizer.minimize(compute_loss, var_list=[a,b,c])\n",
    "    if i%100 == 99:\n",
    "        print(i, 'a: ', a.numpy(), 'b: ', b.numpy(), 'c: ', c.numpy(), 'loss: ', compute_loss().numpy())"
   ]
  },
  {
   "cell_type": "code",
   "execution_count": 30,
   "metadata": {},
   "outputs": [
    {
     "data": {
      "image/png": "[encoded data removed]",
      "text/plain": [
       "<Figure size 432x288 with 1 Axes>"
      ]
     },
     "metadata": {
      "needs_background": "light"
     },
     "output_type": "display_data"
    }
   ],
   "source": [
    "line_x = np.arange(min(X), max(X), 0.01)\n",
    "line_y = a*line_x*line_x + b*line_x + c\n",
    "\n",
    "plt.plot(line_x, line_y, 'r-')\n",
    "plt.plot(X, Y, 'bo')\n",
    "\n",
    "plt.show()"
   ]
  },
  {
   "cell_type": "code",
   "execution_count": 33,
   "metadata": {},
   "outputs": [
    {
     "name": "stdout",
     "output_type": "stream",
     "text": [
      "99 a:  -1.8380818 b:  4.499777 c:  -4.5252504 d:  0.03916151 loss:  134.24046\n",
      "199 a:  -1.8011628 b:  4.3707767 c:  -3.8451138 d:  0.03916151 loss:  133.53317\n",
      "299 a:  -1.8072231 b:  4.3779116 c:  -3.6161184 d:  0.03916151 loss:  133.51318\n",
      "399 a:  -1.809251 b:  4.3793373 c:  -3.5755987 d:  0.03916151 loss:  133.51433\n",
      "499 a:  -1.808566 b:  4.3796015 c:  -3.5673363 d:  0.03916151 loss:  133.51251\n",
      "599 a:  -1.7993168 b:  4.3823605 c:  -3.5660992 d:  0.03916151 loss:  133.7367\n",
      "699 a:  -1.8085198 b:  4.3796577 c:  -3.5671046 d:  0.03916151 loss:  133.51254\n",
      "799 a:  -1.8086022 b:  4.3796253 c:  -3.5666049 d:  0.03916151 loss:  133.51251\n",
      "899 a:  -1.8082889 b:  4.3796268 c:  -3.567755 d:  0.03916151 loss:  133.5127\n",
      "999 a:  -1.8085893 b:  4.379633 c:  -3.5665958 d:  0.03916151 loss:  133.51251\n"
     ]
    }
   ],
   "source": [
    "# ex4.6 텐서플로를 이용해 3차함수 회귀선 구하기\n",
    "\n",
    "import tensorflow as tf\n",
    "import numpy as np\n",
    "import matplotlib.pyplot as plt\n",
    "import random\n",
    "\n",
    "a = tf.Variable(random.random())\n",
    "b = tf.Variable(random.random())\n",
    "c = tf.Variable(random.random())\n",
    "d = tf.Variable(random.random())\n",
    "\n",
    "# 잔차 제곱의 평균\n",
    "def compute_loss():\n",
    "    y_pred = (a*X)**3 + (b*X)**2 + c*X + d\n",
    "    loss = tf.reduce_mean((Y-y_pred)**2)\n",
    "    return loss\n",
    "\n",
    "optimizer = tf.keras.optimizers.Adam(lr=0.07)\n",
    "\n",
    "for i in range(1000):\n",
    "    optimizer.minimize(compute_loss, var_list=[a,b,c])\n",
    "    if i%100 == 99:\n",
    "        print(i, 'a: ', a.numpy(), 'b: ', b.numpy(), 'c: ', c.numpy(), 'd: ', d.numpy(), 'loss: ', compute_loss().numpy())\n",
    "        "
   ]
  },
  {
   "cell_type": "code",
   "execution_count": 35,
   "metadata": {},
   "outputs": [
    {
     "data": {
      "image/png": "[encoded data removed]",
      "text/plain": [
       "<Figure size 432x288 with 1 Axes>"
      ]
     },
     "metadata": {
      "needs_background": "light"
     },
     "output_type": "display_data"
    }
   ],
   "source": [
    "line_x = np.arange(min(X), max(X), 0.01)\n",
    "line_y = a*line_x*line_x*line_x + b*line_x*line_x + c*line_x + d\n",
    "\n",
    "plt.plot(line_x, line_y, 'r-')\n",
    "plt.plot(X, Y, 'bo')\n",
    "plt.show()"
   ]
  },
  {
   "cell_type": "code",
   "execution_count": 38,
   "metadata": {},
   "outputs": [
    {
     "name": "stdout",
     "output_type": "stream",
     "text": [
      "Model: \"sequential\"\n",
      "_________________________________________________________________\n",
      "Layer (type)                 Output Shape              Param #   \n",
      "=================================================================\n",
      "dense (Dense)                (None, 6)                 12        \n",
      "_________________________________________________________________\n",
      "dense_1 (Dense)              (None, 1)                 7         \n",
      "=================================================================\n",
      "Total params: 19\n",
      "Trainable params: 19\n",
      "Non-trainable params: 0\n",
      "_________________________________________________________________\n"
     ]
    }
   ],
   "source": [
    "# ex4.7 딥러닝 네트워크를 이용한 회귀\n",
    "\n",
    "import tensorflow as tf\n",
    "import numpy as np\n",
    "\n",
    "model = tf.keras.Sequential([\n",
    "    tf.keras.layers.Dense(units=6, activation='tanh', input_shape=(1,)),\n",
    "    tf.keras.layers.Dense(units=1)\n",
    "])\n",
    "\n",
    "model.compile(optimizer=tf.keras.optimizers.SGD(lr=0.1), loss='mse')\n",
    "model.summary()"
   ]
  },
  {
   "cell_type": "code",
   "execution_count": 39,
   "metadata": {},
   "outputs": [
    {
     "name": "stdout",
     "output_type": "stream",
     "text": [
      "Epoch 1/10\n",
      "16/16 [==============================] - 0s 10ms/sample - loss: 254.6866\n",
      "Epoch 2/10\n",
      "16/16 [==============================] - 0s 57us/sample - loss: 105.2014\n",
      "Epoch 3/10\n",
      "16/16 [==============================] - 0s 50us/sample - loss: 11.2979\n",
      "Epoch 4/10\n",
      "16/16 [==============================] - 0s 47us/sample - loss: 10.1026\n",
      "Epoch 5/10\n",
      "16/16 [==============================] - 0s 55us/sample - loss: 9.6842\n",
      "Epoch 6/10\n",
      "16/16 [==============================] - 0s 52us/sample - loss: 9.5605\n",
      "Epoch 7/10\n",
      "16/16 [==============================] - 0s 55us/sample - loss: 9.4955\n",
      "Epoch 8/10\n",
      "16/16 [==============================] - 0s 47us/sample - loss: 9.4443\n",
      "Epoch 9/10\n",
      "16/16 [==============================] - 0s 54us/sample - loss: 9.3940\n",
      "Epoch 10/10\n",
      "16/16 [==============================] - 0s 50us/sample - loss: 9.3402\n"
     ]
    },
    {
     "data": {
      "text/plain": [
       "<tensorflow.python.keras.callbacks.History at 0xb31fc9438>"
      ]
     },
     "execution_count": 39,
     "metadata": {},
     "output_type": "execute_result"
    }
   ],
   "source": [
    "model.fit(X, Y, epochs=10)"
   ]
  },
  {
   "cell_type": "code",
   "execution_count": 40,
   "metadata": {},
   "outputs": [
    {
     "data": {
      "text/plain": [
       "array([[15.979496],\n",
       "       [15.483827],\n",
       "       [15.387023],\n",
       "       [16.00394 ],\n",
       "       [15.524964],\n",
       "       [15.991274],\n",
       "       [15.944573],\n",
       "       [15.811312],\n",
       "       [15.497277],\n",
       "       [15.87971 ],\n",
       "       [15.384201],\n",
       "       [15.854371],\n",
       "       [15.931888],\n",
       "       [16.003355],\n",
       "       [15.510531],\n",
       "       [13.699848]], dtype=float32)"
      ]
     },
     "execution_count": 40,
     "metadata": {},
     "output_type": "execute_result"
    }
   ],
   "source": [
    "model.predict(X)"
   ]
  },
  {
   "cell_type": "code",
   "execution_count": 41,
   "metadata": {},
   "outputs": [
    {
     "data": {
      "image/png": "[encoded data removed]",
      "text/plain": [
       "<Figure size 432x288 with 1 Axes>"
      ]
     },
     "metadata": {
      "needs_background": "light"
     },
     "output_type": "display_data"
    }
   ],
   "source": [
    "import matplotlib.pyplot as plt\n",
    "\n",
    "line_x = np.arange(min(X), max(X), 0.01)\n",
    "line_y = model.predict(line_x)\n",
    "\n",
    "plt.plot(line_x, line_y, 'r-')\n",
    "plt.plot(X, Y, 'bo')\n",
    "plt.show()"
   ]
  },
  {
   "cell_type": "code",
   "execution_count": 66,
   "metadata": {},
   "outputs": [],
   "source": [
    "# 보스턴 주택 가격 데이터세트의 13가지 데이터로 주택 가격 예측하기\n",
    "# ex4.11 데이터\n",
    "\n",
    "from tensorflow.keras.datasets import boston_housing\n",
    "(train_X, train_Y), (test_X, test_Y) = boston_housing.load_data()"
   ]
  },
  {
   "cell_type": "code",
   "execution_count": 67,
   "metadata": {},
   "outputs": [
    {
     "name": "stdout",
     "output_type": "stream",
     "text": [
      "404 102\n",
      "[  1.23247   0.        8.14      0.        0.538     6.142    91.7\n",
      "   3.9769    4.      307.       21.      396.9      18.72   ]\n",
      "15.2\n"
     ]
    }
   ],
   "source": [
    "print(len(train_X), len(test_X))\n",
    "print(train_X[0])\n",
    "print(train_Y[0])"
   ]
  },
  {
   "cell_type": "code",
   "execution_count": 68,
   "metadata": {},
   "outputs": [],
   "source": [
    "# 데이터 정규화\n",
    "\n",
    "def standard(data):\n",
    "    mean = data.mean()\n",
    "    std = data.std()\n",
    "    return (data - mean)/std\n",
    "\n",
    "train_X = standard(train_X)\n",
    "train_Y = standard(train_Y)\n",
    "test_X = standard(test_X)\n",
    "test_Y = standard(test_Y)"
   ]
  },
  {
   "cell_type": "code",
   "execution_count": 75,
   "metadata": {},
   "outputs": [
    {
     "data": {
      "text/plain": [
       "array([-0.35847528, -0.4805563 , -0.35837132, -0.4805563 , -0.47597267,\n",
       "       -0.43712325,  0.19449881, -0.46817106, -0.31854307,  4.01531071,\n",
       "       -0.34419516, -0.29660378, -0.28445279])"
      ]
     },
     "execution_count": 75,
     "metadata": {},
     "output_type": "execute_result"
    }
   ],
   "source": [
    "test_X[0]"
   ]
  },
  {
   "cell_type": "code",
   "execution_count": 70,
   "metadata": {},
   "outputs": [
    {
     "name": "stdout",
     "output_type": "stream",
     "text": [
      "Model: \"sequential_5\"\n",
      "_________________________________________________________________\n",
      "Layer (type)                 Output Shape              Param #   \n",
      "=================================================================\n",
      "dense_18 (Dense)             (None, 52)                728       \n",
      "_________________________________________________________________\n",
      "dense_19 (Dense)             (None, 39)                2067      \n",
      "_________________________________________________________________\n",
      "dense_20 (Dense)             (None, 26)                1040      \n",
      "_________________________________________________________________\n",
      "dense_21 (Dense)             (None, 1)                 27        \n",
      "=================================================================\n",
      "Total params: 3,862\n",
      "Trainable params: 3,862\n",
      "Non-trainable params: 0\n",
      "_________________________________________________________________\n"
     ]
    }
   ],
   "source": [
    "# ex4.13 회귀 모델 생성\n",
    "\n",
    "model = tf.keras.Sequential([\n",
    "    tf.keras.layers.Dense(units=52, activation='relu', input_shape=(13,)),\n",
    "    tf.keras.layers.Dense(units=39, activation='relu'),\n",
    "    tf.keras.layers.Dense(units=26, activation='relu'),\n",
    "    tf.keras.layers.Dense(units=1)\n",
    "])\n",
    "\n",
    "model.compile(optimizer=tf.keras.optimizers.Adam(lr=0.07), loss='mse')\n",
    "model.summary()"
   ]
  },
  {
   "cell_type": "code",
   "execution_count": 71,
   "metadata": {},
   "outputs": [
    {
     "name": "stdout",
     "output_type": "stream",
     "text": [
      "Train on 303 samples, validate on 101 samples\n",
      "Epoch 1/25\n",
      "303/303 [==============================] - 0s 544us/sample - loss: 1.5829 - val_loss: 1.2392\n",
      "Epoch 2/25\n",
      "303/303 [==============================] - 0s 44us/sample - loss: 0.9698 - val_loss: 1.2977\n",
      "Epoch 3/25\n",
      "303/303 [==============================] - 0s 49us/sample - loss: 0.9057 - val_loss: 1.2567\n",
      "Epoch 4/25\n",
      "303/303 [==============================] - 0s 49us/sample - loss: 0.7946 - val_loss: 1.1583\n",
      "Epoch 5/25\n",
      "303/303 [==============================] - 0s 47us/sample - loss: 0.7343 - val_loss: 1.0371\n",
      "Epoch 6/25\n",
      "303/303 [==============================] - 0s 48us/sample - loss: 0.7195 - val_loss: 1.0312\n",
      "Epoch 7/25\n",
      "303/303 [==============================] - 0s 43us/sample - loss: 0.7054 - val_loss: 1.1856\n",
      "Epoch 8/25\n",
      "303/303 [==============================] - 0s 55us/sample - loss: 0.7479 - val_loss: 1.0762\n",
      "Epoch 9/25\n",
      "303/303 [==============================] - 0s 67us/sample - loss: 0.6644 - val_loss: 1.1186\n",
      "Epoch 10/25\n",
      "303/303 [==============================] - 0s 51us/sample - loss: 0.6493 - val_loss: 1.1355\n",
      "Epoch 11/25\n",
      "303/303 [==============================] - 0s 50us/sample - loss: 0.6760 - val_loss: 1.0877\n",
      "Epoch 12/25\n",
      "303/303 [==============================] - 0s 53us/sample - loss: 0.6820 - val_loss: 0.9714\n",
      "Epoch 13/25\n",
      "303/303 [==============================] - 0s 57us/sample - loss: 0.6788 - val_loss: 0.9712\n",
      "Epoch 14/25\n",
      "303/303 [==============================] - 0s 50us/sample - loss: 0.7176 - val_loss: 1.0659\n",
      "Epoch 15/25\n",
      "303/303 [==============================] - 0s 56us/sample - loss: 0.7032 - val_loss: 1.1106\n",
      "Epoch 16/25\n",
      "303/303 [==============================] - 0s 60us/sample - loss: 0.7200 - val_loss: 1.1760\n",
      "Epoch 17/25\n",
      "303/303 [==============================] - 0s 54us/sample - loss: 0.6323 - val_loss: 1.0353\n",
      "Epoch 18/25\n",
      "303/303 [==============================] - 0s 60us/sample - loss: 0.6412 - val_loss: 1.0208\n",
      "Epoch 19/25\n",
      "303/303 [==============================] - 0s 47us/sample - loss: 0.6184 - val_loss: 0.9929\n",
      "Epoch 20/25\n",
      "303/303 [==============================] - 0s 52us/sample - loss: 0.6084 - val_loss: 1.2246\n",
      "Epoch 21/25\n",
      "303/303 [==============================] - 0s 43us/sample - loss: 0.6179 - val_loss: 0.9961\n",
      "Epoch 22/25\n",
      "303/303 [==============================] - 0s 42us/sample - loss: 0.5886 - val_loss: 0.9924\n",
      "Epoch 23/25\n",
      "303/303 [==============================] - 0s 42us/sample - loss: 0.5905 - val_loss: 0.9476\n",
      "Epoch 24/25\n",
      "303/303 [==============================] - 0s 54us/sample - loss: 0.7021 - val_loss: 0.9829\n",
      "Epoch 25/25\n",
      "303/303 [==============================] - 0s 48us/sample - loss: 0.6442 - val_loss: 0.9669\n"
     ]
    }
   ],
   "source": [
    "# ex4.14 회귀 모델 학습\n",
    "\n",
    "history = model.fit(train_X, train_Y, epochs=25, batch_size=32, validation_split=0.25)"
   ]
  },
  {
   "cell_type": "code",
   "execution_count": 72,
   "metadata": {},
   "outputs": [
    {
     "data": {
      "image/png": "[encoded data removed]",
      "text/plain": [
       "<Figure size 432x288 with 1 Axes>"
      ]
     },
     "metadata": {
      "needs_background": "light"
     },
     "output_type": "display_data"
    }
   ],
   "source": [
    "import matplotlib.pyplot as plt\n",
    "\n",
    "plt.plot(history.history['loss'], 'b-', label='loss')\n",
    "plt.plot(history.history['val_loss'], 'r--', label='val_loss')\n",
    "\n",
    "plt.legend()\n",
    "plt.show()"
   ]
  },
  {
   "cell_type": "code",
   "execution_count": 73,
   "metadata": {},
   "outputs": [
    {
     "name": "stdout",
     "output_type": "stream",
     "text": [
      "102/102 [==============================] - 0s 32us/sample - loss: 0.6613\n"
     ]
    },
    {
     "data": {
      "text/plain": [
       "0.6612861296709847"
      ]
     },
     "execution_count": 73,
     "metadata": {},
     "output_type": "execute_result"
    }
   ],
   "source": [
    "# 4.16 회귀 모델 평가\n",
    "\n",
    "model.evaluate(test_X, test_Y)"
   ]
  },
  {
   "cell_type": "code",
   "execution_count": 74,
   "metadata": {},
   "outputs": [
    {
     "data": {
      "image/png": "[encoded data removed]",
      "text/plain": [
       "<Figure size 360x360 with 1 Axes>"
      ]
     },
     "metadata": {
      "needs_background": "light"
     },
     "output_type": "display_data"
    }
   ],
   "source": [
    "# 실제 주택가격과 예측 주택가격의 시각화\n",
    "\n",
    "import matplotlib.pyplot as plt\n",
    "\n",
    "pred_Y = model.predict(test_X)\n",
    "\n",
    "plt.figure(figsize=(5,5))\n",
    "plt.plot(test_X, pred_Y, 'b.')\n",
    "#plt.axis([x_start, x_end, y_start, y_end])\n",
    "plt.axis([min(test_Y), max(test_Y), min(test_Y), max(test_Y)])\n",
    "plt.plot([min(test_Y), max(test_Y)], [min(test_Y), max(test_Y)], ls='--', c='.3')\n",
    "plt.show()"
   ]
  },
  {
   "cell_type": "code",
   "execution_count": 76,
   "metadata": {},
   "outputs": [
    {
     "name": "stdout",
     "output_type": "stream",
     "text": [
      "Train on 303 samples, validate on 101 samples\n",
      "Epoch 1/25\n",
      "303/303 [==============================] - 0s 561us/sample - loss: 3.8726 - val_loss: 1.2056\n",
      "Epoch 2/25\n",
      "303/303 [==============================] - 0s 42us/sample - loss: 0.8015 - val_loss: 1.0324\n",
      "Epoch 3/25\n",
      "303/303 [==============================] - 0s 40us/sample - loss: 0.6685 - val_loss: 1.0519\n",
      "Epoch 4/25\n",
      "303/303 [==============================] - 0s 40us/sample - loss: 0.6906 - val_loss: 1.0723\n",
      "Epoch 5/25\n",
      "303/303 [==============================] - 0s 48us/sample - loss: 0.7057 - val_loss: 1.0395\n"
     ]
    }
   ],
   "source": [
    "# 4.18 모델 재정의, 학습\n",
    "\n",
    "model = tf.keras.Sequential([\n",
    "    tf.keras.layers.Dense(units=52, activation='relu', input_shape=(13,)),\n",
    "    tf.keras.layers.Dense(units=39, activation='relu'),\n",
    "    tf.keras.layers.Dense(units=26, activation='relu'),\n",
    "    tf.keras.layers.Dense(units=1)    \n",
    "])\n",
    "model.compile(optimizer=tf.keras.optimizers.Adam(lr=0.07), loss='mse')\n",
    "history = model.fit(train_X, train_Y, epochs=25, batch_size=32, validation_split=0.25, \n",
    "                   callbacks=[tf.keras.callbacks.EarlyStopping(patience=3, monitor='val_loss')])"
   ]
  },
  {
   "cell_type": "code",
   "execution_count": 77,
   "metadata": {},
   "outputs": [
    {
     "data": {
      "image/png": "[encoded data removed]",
      "text/plain": [
       "<Figure size 432x288 with 1 Axes>"
      ]
     },
     "metadata": {
      "needs_background": "light"
     },
     "output_type": "display_data"
    }
   ],
   "source": [
    "# 4.19 학습 결과 시각화\n",
    "\n",
    "plt.plot(history.history['loss'], 'b-', label='loss')\n",
    "plt.plot(history.history['val_loss'], 'r--', label='val_loss')\n",
    "\n",
    "plt.legend()\n",
    "plt.show()"
   ]
  },
  {
   "cell_type": "code",
   "execution_count": 78,
   "metadata": {},
   "outputs": [
    {
     "name": "stdout",
     "output_type": "stream",
     "text": [
      "102/102 [==============================] - 0s 31us/sample - loss: 0.7191\n"
     ]
    },
    {
     "data": {
      "text/plain": [
       "0.7190758457370833"
      ]
     },
     "execution_count": 78,
     "metadata": {},
     "output_type": "execute_result"
    }
   ],
   "source": [
    "model.evaluate(test_X, test_Y)"
   ]
  },
  {
   "cell_type": "code",
   "execution_count": 79,
   "metadata": {},
   "outputs": [
    {
     "data": {
      "image/png": "[encoded data removed]",
      "text/plain": [
       "<Figure size 360x360 with 1 Axes>"
      ]
     },
     "metadata": {
      "needs_background": "light"
     },
     "output_type": "display_data"
    }
   ],
   "source": [
    "pred_Y = model.predict(test_X)\n",
    "plt.figure(figsize=(5,5))\n",
    "plt.plot(test_X, pred_Y, 'b.')\n",
    "plt.axis([min(test_Y), max(test_Y), min(test_Y), max(test_Y)])\n",
    "plt.plot([min(test_Y), max(test_Y)], [min(test_Y), max(test_Y)], ls='--', c='.3')\n",
    "plt.show()"
   ]
  },
  {
   "cell_type": "code",
   "execution_count": null,
   "metadata": {},
   "outputs": [],
   "source": []
  }
 ],
 "metadata": {
  "kernelspec": {
   "display_name": "Python 3",
   "language": "python",
   "name": "python3"
  },
  "language_info": {
   "codemirror_mode": {
    "name": "ipython",
    "version": 3
   },
   "file_extension": ".py",
   "mimetype": "text/x-python",
   "name": "python",
   "nbconvert_exporter": "python",
   "pygments_lexer": "ipython3",
   "version": "3.7.3"
  }
 },
 "nbformat": 4,
 "nbformat_minor": 2
}
