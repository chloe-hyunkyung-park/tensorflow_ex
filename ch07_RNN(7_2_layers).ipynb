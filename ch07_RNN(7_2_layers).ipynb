{
  "nbformat": 4,
  "nbformat_minor": 0,
  "metadata": {
    "colab": {
      "name": "ch07_RNN(7.2_layers).ipynb",
      "provenance": [],
      "collapsed_sections": [],
      "authorship_tag": "ABX9TyN7e987cSHo084cRF2NDToe",
      "include_colab_link": true
    },
    "kernelspec": {
      "name": "python3",
      "display_name": "Python 3"
    }
  },
  "cells": [
    {
      "cell_type": "markdown",
      "metadata": {
        "id": "view-in-github",
        "colab_type": "text"
      },
      "source": [
        "<a href=\"https://colab.research.google.com/github/chloepark627/tensorflow_ex/blob/master/ch07_RNN(7_2_layers).ipynb\" target=\"_parent\"><img src=\"https://colab.research.google.com/assets/colab-badge.svg\" alt=\"Open In Colab\"/></a>"
      ]
    },
    {
      "cell_type": "code",
      "metadata": {
        "id": "uJAoog6kWNt7",
        "colab_type": "code",
        "outputId": "63803025-be6b-4ea5-b2b6-163ca1cc53a4",
        "colab": {
          "base_uri": "https://localhost:8080/",
          "height": 425
        }
      },
      "source": [
        "X = list(); Y = list();\n",
        "for i in range(6):\n",
        "    lst = list(range(i, i+4)) \n",
        "    #0 / 0,1,2,3\n",
        "    print('i : ', lst, i+4)\n",
        "\n",
        "    x = list(map(lambda c:[c/10], lst))\n",
        "    y = (i+4)/10\n",
        "    X.append(x)\n",
        "    Y.append(y)\n",
        "\n",
        "    print('X : ', x)\n",
        "    print('Y : ', y)\n",
        "    print()"
      ],
      "execution_count": 1,
      "outputs": [
        {
          "output_type": "stream",
          "text": [
            "i :  [0, 1, 2, 3] 4\n",
            "X :  [[0.0], [0.1], [0.2], [0.3]]\n",
            "Y :  0.4\n",
            "\n",
            "i :  [1, 2, 3, 4] 5\n",
            "X :  [[0.1], [0.2], [0.3], [0.4]]\n",
            "Y :  0.5\n",
            "\n",
            "i :  [2, 3, 4, 5] 6\n",
            "X :  [[0.2], [0.3], [0.4], [0.5]]\n",
            "Y :  0.6\n",
            "\n",
            "i :  [3, 4, 5, 6] 7\n",
            "X :  [[0.3], [0.4], [0.5], [0.6]]\n",
            "Y :  0.7\n",
            "\n",
            "i :  [4, 5, 6, 7] 8\n",
            "X :  [[0.4], [0.5], [0.6], [0.7]]\n",
            "Y :  0.8\n",
            "\n",
            "i :  [5, 6, 7, 8] 9\n",
            "X :  [[0.5], [0.6], [0.7], [0.8]]\n",
            "Y :  0.9\n",
            "\n"
          ],
          "name": "stdout"
        }
      ]
    },
    {
      "cell_type": "code",
      "metadata": {
        "id": "f7NiJ0TrWtbq",
        "colab_type": "code",
        "outputId": "64469c2c-6e6f-42c9-cd3a-1989891c39cf",
        "colab": {
          "base_uri": "https://localhost:8080/",
          "height": 442
        }
      },
      "source": [
        "import numpy as np\n",
        "\n",
        "X = np.array(X); Y = np.array(Y)\n",
        "for i in range(len(X)):\n",
        "    print(X[i], Y[i])\n",
        "\n",
        "print(X[i].shape)"
      ],
      "execution_count": 2,
      "outputs": [
        {
          "output_type": "stream",
          "text": [
            "[[0. ]\n",
            " [0.1]\n",
            " [0.2]\n",
            " [0.3]] 0.4\n",
            "[[0.1]\n",
            " [0.2]\n",
            " [0.3]\n",
            " [0.4]] 0.5\n",
            "[[0.2]\n",
            " [0.3]\n",
            " [0.4]\n",
            " [0.5]] 0.6\n",
            "[[0.3]\n",
            " [0.4]\n",
            " [0.5]\n",
            " [0.6]] 0.7\n",
            "[[0.4]\n",
            " [0.5]\n",
            " [0.6]\n",
            " [0.7]] 0.8\n",
            "[[0.5]\n",
            " [0.6]\n",
            " [0.7]\n",
            " [0.8]] 0.9\n",
            "(4, 1)\n"
          ],
          "name": "stdout"
        }
      ]
    },
    {
      "cell_type": "code",
      "metadata": {
        "id": "BTfBzUnTXr2v",
        "colab_type": "code",
        "outputId": "c935911e-93f5-446d-d497-fbb315941508",
        "colab": {
          "base_uri": "https://localhost:8080/",
          "height": 221
        }
      },
      "source": [
        "# 7.2.1 SimpleRNN Layer\n",
        "\n",
        "import tensorflow as tf\n",
        "\n",
        "model = tf.keras.Sequential([\n",
        "    tf.keras.layers.SimpleRNN(units=10, return_sequences=False, input_shape=[4,1]),\n",
        "    tf.keras.layers.Dense(1)\n",
        "])\n",
        "\n",
        "model.compile(optimizer='adam', loss='mse')\n",
        "model.summary()"
      ],
      "execution_count": 3,
      "outputs": [
        {
          "output_type": "stream",
          "text": [
            "Model: \"sequential\"\n",
            "_________________________________________________________________\n",
            "Layer (type)                 Output Shape              Param #   \n",
            "=================================================================\n",
            "simple_rnn (SimpleRNN)       (None, 10)                120       \n",
            "_________________________________________________________________\n",
            "dense (Dense)                (None, 1)                 11        \n",
            "=================================================================\n",
            "Total params: 131\n",
            "Trainable params: 131\n",
            "Non-trainable params: 0\n",
            "_________________________________________________________________\n"
          ],
          "name": "stdout"
        }
      ]
    },
    {
      "cell_type": "code",
      "metadata": {
        "id": "9IKVC4SJYJGj",
        "colab_type": "code",
        "outputId": "3a340706-a0d8-4515-c381-d97fba746055",
        "colab": {
          "base_uri": "https://localhost:8080/",
          "height": 119
        }
      },
      "source": [
        "model.fit(X, Y, epochs=100, verbose=0)\n",
        "print(model.predict(X))"
      ],
      "execution_count": 4,
      "outputs": [
        {
          "output_type": "stream",
          "text": [
            "[[0.4412729 ]\n",
            " [0.5478577 ]\n",
            " [0.63467485]\n",
            " [0.70487523]\n",
            " [0.7622538 ]\n",
            " [0.80991054]]\n"
          ],
          "name": "stdout"
        }
      ]
    },
    {
      "cell_type": "code",
      "metadata": {
        "id": "LEVsOTdjYg30",
        "colab_type": "code",
        "outputId": "d7dfe0d6-ceff-4417-cd6a-c0be0e24f76c",
        "colab": {
          "base_uri": "https://localhost:8080/",
          "height": 34
        }
      },
      "source": [
        "print(model.predict(np.array([[[-0.1], [0], [0.1], [0.2]]])))"
      ],
      "execution_count": 5,
      "outputs": [
        {
          "output_type": "stream",
          "text": [
            "[[0.31488687]]\n"
          ],
          "name": "stdout"
        }
      ]
    },
    {
      "cell_type": "code",
      "metadata": {
        "id": "e9HZw_2YYyHZ",
        "colab_type": "code",
        "colab": {
          "base_uri": "https://localhost:8080/",
          "height": 306
        },
        "outputId": "1a6f3cc5-86f4-4d1d-84ac-a177fb91ef4a"
      },
      "source": [
        "# 7.2.2 LSTM Layer\n",
        "\n",
        "X = list(); Y = list();\n",
        "\n",
        "for i in range(3000):\n",
        "    lst = np.random.rand(100) #100 numbers of btwn 0 and 1\n",
        "    idx = np.random.choice(100, 2, replace=False)\n",
        "    zeros = np.zeros(100)\n",
        "    zeros[idx] = 1 #only two numbers are 1 in 100 float numbers\n",
        "\n",
        "    \n",
        "\n"
      ],
      "execution_count": 6,
      "outputs": [
        {
          "output_type": "stream",
          "text": [
            "[0.64775436 0.12633617 0.03373626 0.36035064 0.86457799 0.36290215\n",
            " 0.93158461 0.82503338 0.91548992 0.05627579 0.06458251 0.46695309\n",
            " 0.3772576  0.91658411 0.54333136 0.49193121 0.18569076 0.95516053\n",
            " 0.37851425 0.72593297 0.34118923 0.60287529 0.06159347 0.02527697\n",
            " 0.79078128 0.49654243 0.13205301 0.95146505 0.88931511 0.54650202\n",
            " 0.83617402 0.97206984 0.99932361 0.10206785 0.76778645 0.02164414\n",
            " 0.57543934 0.88459276 0.00275271 0.2657383  0.63968401 0.40234862\n",
            " 0.15166527 0.10284473 0.97278335 0.21182836 0.62550116 0.87708114\n",
            " 0.49405055 0.65369833 0.7848172  0.85660946 0.57957127 0.67481669\n",
            " 0.15979076 0.44471049 0.46231711 0.94591747 0.91809995 0.87207827\n",
            " 0.53288336 0.19517114 0.55462359 0.78707027 0.23554282 0.50635338\n",
            " 0.69053318 0.19148405 0.05220713 0.0620753  0.77561157 0.18881699\n",
            " 0.04058098 0.14099139 0.64672351 0.43883124 0.58991002 0.42590306\n",
            " 0.7354072  0.20658852 0.13109335 0.40271048 0.54764861 0.11357018\n",
            " 0.46175259 0.50997568 0.00816367 0.69049934 0.6415994  0.58443711\n",
            " 0.40853322 0.96541153 0.69436254 0.26314287 0.05898458 0.35011463\n",
            " 0.47050913 0.59066916 0.96057    0.25698291]\n"
          ],
          "name": "stdout"
        }
      ]
    },
    {
      "cell_type": "code",
      "metadata": {
        "id": "MX7CB_IAcQ5I",
        "colab_type": "code",
        "colab": {}
      },
      "source": [
        ""
      ],
      "execution_count": 0,
      "outputs": []
    },
    {
      "cell_type": "code",
      "metadata": {
        "id": "l9KdomA_dvqB",
        "colab_type": "code",
        "colab": {}
      },
      "source": [
        ""
      ],
      "execution_count": 0,
      "outputs": []
    },
    {
      "cell_type": "code",
      "metadata": {
        "id": "k5Er6X7ddvsU",
        "colab_type": "code",
        "colab": {}
      },
      "source": [
        ""
      ],
      "execution_count": 0,
      "outputs": []
    },
    {
      "cell_type": "code",
      "metadata": {
        "id": "GyChAcOPdvuD",
        "colab_type": "code",
        "colab": {}
      },
      "source": [
        ""
      ],
      "execution_count": 0,
      "outputs": []
    },
    {
      "cell_type": "code",
      "metadata": {
        "id": "Chqq6mSRdvwV",
        "colab_type": "code",
        "colab": {}
      },
      "source": [
        ""
      ],
      "execution_count": 0,
      "outputs": []
    },
    {
      "cell_type": "code",
      "metadata": {
        "id": "68lRA5Whdvyp",
        "colab_type": "code",
        "colab": {}
      },
      "source": [
        ""
      ],
      "execution_count": 0,
      "outputs": []
    },
    {
      "cell_type": "code",
      "metadata": {
        "id": "BcaMomDTdv0q",
        "colab_type": "code",
        "colab": {}
      },
      "source": [
        ""
      ],
      "execution_count": 0,
      "outputs": []
    },
    {
      "cell_type": "code",
      "metadata": {
        "id": "q8uNIWcidv2y",
        "colab_type": "code",
        "colab": {}
      },
      "source": [
        "# 7.2.3 GRU Layer"
      ],
      "execution_count": 0,
      "outputs": []
    },
    {
      "cell_type": "code",
      "metadata": {
        "id": "aL5M1cjHdygt",
        "colab_type": "code",
        "colab": {}
      },
      "source": [
        ""
      ],
      "execution_count": 0,
      "outputs": []
    }
  ]
}