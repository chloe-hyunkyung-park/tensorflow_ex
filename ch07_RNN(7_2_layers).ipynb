{
  "nbformat": 4,
  "nbformat_minor": 0,
  "metadata": {
    "colab": {
      "name": "ch07_RNN(7.2_layers).ipynb",
      "provenance": [],
      "collapsed_sections": [],
      "authorship_tag": "ABX9TyNVMa21b+GjQkjUxnCrhh5y",
      "include_colab_link": true
    },
    "kernelspec": {
      "name": "python3",
      "display_name": "Python 3"
    }
  },
  "cells": [
    {
      "cell_type": "markdown",
      "metadata": {
        "id": "view-in-github",
        "colab_type": "text"
      },
      "source": [
        "<a href=\"https://colab.research.google.com/github/chloepark627/tensorflow_ex/blob/master/ch07_RNN(7_2_layers).ipynb\" target=\"_parent\"><img src=\"https://colab.research.google.com/assets/colab-badge.svg\" alt=\"Open In Colab\"/></a>"
      ]
    },
    {
      "cell_type": "code",
      "metadata": {
        "id": "uJAoog6kWNt7",
        "colab_type": "code",
        "colab": {
          "base_uri": "https://localhost:8080/",
          "height": 425
        },
        "outputId": "de876f00-3860-43ce-d2d4-031cd5867bce"
      },
      "source": [
        "X = list(); Y = list();\n",
        "for i in range(6):\n",
        "    lst = list(range(i, i+4)) \n",
        "    #0 / 0,1,2,3\n",
        "    print('i : ', lst, i+4)\n",
        "\n",
        "    x = list(map(lambda c:[c/10], lst))\n",
        "    y = (i+4)/10\n",
        "    X.append(x)\n",
        "    Y.append(y)\n",
        "\n",
        "    print('X : ', x)\n",
        "    print('Y : ', y)\n",
        "    print()"
      ],
      "execution_count": 5,
      "outputs": [
        {
          "output_type": "stream",
          "text": [
            "i :  [0, 1, 2, 3] 4\n",
            "X :  [[0.0], [0.1], [0.2], [0.3]]\n",
            "Y :  0.4\n",
            "\n",
            "i :  [1, 2, 3, 4] 5\n",
            "X :  [[0.1], [0.2], [0.3], [0.4]]\n",
            "Y :  0.5\n",
            "\n",
            "i :  [2, 3, 4, 5] 6\n",
            "X :  [[0.2], [0.3], [0.4], [0.5]]\n",
            "Y :  0.6\n",
            "\n",
            "i :  [3, 4, 5, 6] 7\n",
            "X :  [[0.3], [0.4], [0.5], [0.6]]\n",
            "Y :  0.7\n",
            "\n",
            "i :  [4, 5, 6, 7] 8\n",
            "X :  [[0.4], [0.5], [0.6], [0.7]]\n",
            "Y :  0.8\n",
            "\n",
            "i :  [5, 6, 7, 8] 9\n",
            "X :  [[0.5], [0.6], [0.7], [0.8]]\n",
            "Y :  0.9\n",
            "\n"
          ],
          "name": "stdout"
        }
      ]
    },
    {
      "cell_type": "code",
      "metadata": {
        "id": "f7NiJ0TrWtbq",
        "colab_type": "code",
        "colab": {
          "base_uri": "https://localhost:8080/",
          "height": 442
        },
        "outputId": "e70fb2a2-dc4a-4a21-eb67-4db0a57b41e4"
      },
      "source": [
        "import numpy as np\n",
        "\n",
        "X = np.array(X); Y = np.array(Y)\n",
        "for i in range(len(X)):\n",
        "    print(X[i], Y[i])\n",
        "\n",
        "print(X[i].shape)"
      ],
      "execution_count": 8,
      "outputs": [
        {
          "output_type": "stream",
          "text": [
            "[[0. ]\n",
            " [0.1]\n",
            " [0.2]\n",
            " [0.3]] 0.4\n",
            "[[0.1]\n",
            " [0.2]\n",
            " [0.3]\n",
            " [0.4]] 0.5\n",
            "[[0.2]\n",
            " [0.3]\n",
            " [0.4]\n",
            " [0.5]] 0.6\n",
            "[[0.3]\n",
            " [0.4]\n",
            " [0.5]\n",
            " [0.6]] 0.7\n",
            "[[0.4]\n",
            " [0.5]\n",
            " [0.6]\n",
            " [0.7]] 0.8\n",
            "[[0.5]\n",
            " [0.6]\n",
            " [0.7]\n",
            " [0.8]] 0.9\n",
            "(4, 1)\n"
          ],
          "name": "stdout"
        }
      ]
    },
    {
      "cell_type": "code",
      "metadata": {
        "id": "BTfBzUnTXr2v",
        "colab_type": "code",
        "colab": {
          "base_uri": "https://localhost:8080/",
          "height": 221
        },
        "outputId": "c8b9a55a-9cc6-4cf2-9b71-caf9af52d3cd"
      },
      "source": [
        "# 7.2.1 SimpleRNN Layer\n",
        "\n",
        "import tensorflow as tf\n",
        "\n",
        "model = tf.keras.Sequential([\n",
        "    tf.keras.layers.SimpleRNN(units=10, return_sequences=False, input_shape=[4,1]),\n",
        "    tf.keras.layers.Dense(1)\n",
        "])\n",
        "\n",
        "model.compile(optimizer='adam', loss='mse')\n",
        "model.summary()"
      ],
      "execution_count": 10,
      "outputs": [
        {
          "output_type": "stream",
          "text": [
            "Model: \"sequential\"\n",
            "_________________________________________________________________\n",
            "Layer (type)                 Output Shape              Param #   \n",
            "=================================================================\n",
            "simple_rnn (SimpleRNN)       (None, 10)                120       \n",
            "_________________________________________________________________\n",
            "dense (Dense)                (None, 1)                 11        \n",
            "=================================================================\n",
            "Total params: 131\n",
            "Trainable params: 131\n",
            "Non-trainable params: 0\n",
            "_________________________________________________________________\n"
          ],
          "name": "stdout"
        }
      ]
    },
    {
      "cell_type": "code",
      "metadata": {
        "id": "9IKVC4SJYJGj",
        "colab_type": "code",
        "colab": {
          "base_uri": "https://localhost:8080/",
          "height": 119
        },
        "outputId": "aebf7d8f-3501-49ba-cb92-c2d1e3a5d200"
      },
      "source": [
        "model.fit(X, Y, epochs=100, verbose=0)\n",
        "print(model.predict(X))"
      ],
      "execution_count": 11,
      "outputs": [
        {
          "output_type": "stream",
          "text": [
            "[[0.48879665]\n",
            " [0.5766012 ]\n",
            " [0.6501211 ]\n",
            " [0.70944744]\n",
            " [0.75606865]\n",
            " [0.7920678 ]]\n"
          ],
          "name": "stdout"
        }
      ]
    },
    {
      "cell_type": "code",
      "metadata": {
        "id": "LEVsOTdjYg30",
        "colab_type": "code",
        "colab": {
          "base_uri": "https://localhost:8080/",
          "height": 34
        },
        "outputId": "bf23a609-3a0f-4e44-9393-1687b951673f"
      },
      "source": [
        "print(model.predict(np.array([[[-0.1], [0], [0.1], [0.2]]])))"
      ],
      "execution_count": 12,
      "outputs": [
        {
          "output_type": "stream",
          "text": [
            "[[0.3887363]]\n"
          ],
          "name": "stdout"
        }
      ]
    },
    {
      "cell_type": "code",
      "metadata": {
        "id": "e9HZw_2YYyHZ",
        "colab_type": "code",
        "colab": {}
      },
      "source": [
        "# 7.2.2 LSTM Layer\n",
        "\n"
      ],
      "execution_count": 0,
      "outputs": []
    }
  ]
}