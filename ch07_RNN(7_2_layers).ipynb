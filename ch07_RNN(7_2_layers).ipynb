{
  "nbformat": 4,
  "nbformat_minor": 0,
  "metadata": {
    "colab": {
      "name": "ch07_RNN(7.2_layers).ipynb",
      "provenance": [],
      "collapsed_sections": [],
      "authorship_tag": "ABX9TyM2Z1XuYzztlbzKTuW0b3rt",
      "include_colab_link": true
    },
    "kernelspec": {
      "name": "python3",
      "display_name": "Python 3"
    },
    "accelerator": "GPU"
  },
  "cells": [
    {
      "cell_type": "markdown",
      "metadata": {
        "id": "view-in-github",
        "colab_type": "text"
      },
      "source": [
        "<a href=\"https://colab.research.google.com/github/chloepark627/tensorflow_ex/blob/master/ch07_RNN(7_2_layers).ipynb\" target=\"_parent\"><img src=\"https://colab.research.google.com/assets/colab-badge.svg\" alt=\"Open In Colab\"/></a>"
      ]
    },
    {
      "cell_type": "code",
      "metadata": {
        "id": "uJAoog6kWNt7",
        "colab_type": "code",
        "outputId": "fab34cdc-52a0-41c3-bf3b-0a307e96c8b1",
        "colab": {
          "base_uri": "https://localhost:8080/",
          "height": 425
        }
      },
      "source": [
        "X = list(); Y = list();\n",
        "for i in range(6):\n",
        "    lst = list(range(i, i+4)) \n",
        "    #0 / 0,1,2,3\n",
        "    print('i : ', lst, i+4)\n",
        "\n",
        "    x = list(map(lambda c:[c/10], lst))\n",
        "    y = (i+4)/10\n",
        "    X.append(x)\n",
        "    Y.append(y)\n",
        "\n",
        "    print('X : ', x)\n",
        "    print('Y : ', y)\n",
        "    print()"
      ],
      "execution_count": 1,
      "outputs": [
        {
          "output_type": "stream",
          "text": [
            "i :  [0, 1, 2, 3] 4\n",
            "X :  [[0.0], [0.1], [0.2], [0.3]]\n",
            "Y :  0.4\n",
            "\n",
            "i :  [1, 2, 3, 4] 5\n",
            "X :  [[0.1], [0.2], [0.3], [0.4]]\n",
            "Y :  0.5\n",
            "\n",
            "i :  [2, 3, 4, 5] 6\n",
            "X :  [[0.2], [0.3], [0.4], [0.5]]\n",
            "Y :  0.6\n",
            "\n",
            "i :  [3, 4, 5, 6] 7\n",
            "X :  [[0.3], [0.4], [0.5], [0.6]]\n",
            "Y :  0.7\n",
            "\n",
            "i :  [4, 5, 6, 7] 8\n",
            "X :  [[0.4], [0.5], [0.6], [0.7]]\n",
            "Y :  0.8\n",
            "\n",
            "i :  [5, 6, 7, 8] 9\n",
            "X :  [[0.5], [0.6], [0.7], [0.8]]\n",
            "Y :  0.9\n",
            "\n"
          ],
          "name": "stdout"
        }
      ]
    },
    {
      "cell_type": "code",
      "metadata": {
        "id": "f7NiJ0TrWtbq",
        "colab_type": "code",
        "outputId": "58745656-0c7f-4d4b-a8b2-d9b0b4dcddbb",
        "colab": {
          "base_uri": "https://localhost:8080/",
          "height": 442
        }
      },
      "source": [
        "import numpy as np\n",
        "\n",
        "X = np.array(X); Y = np.array(Y)\n",
        "for i in range(len(X)):\n",
        "    print(X[i], Y[i])\n",
        "\n",
        "print(X[i].shape)"
      ],
      "execution_count": 2,
      "outputs": [
        {
          "output_type": "stream",
          "text": [
            "[[0. ]\n",
            " [0.1]\n",
            " [0.2]\n",
            " [0.3]] 0.4\n",
            "[[0.1]\n",
            " [0.2]\n",
            " [0.3]\n",
            " [0.4]] 0.5\n",
            "[[0.2]\n",
            " [0.3]\n",
            " [0.4]\n",
            " [0.5]] 0.6\n",
            "[[0.3]\n",
            " [0.4]\n",
            " [0.5]\n",
            " [0.6]] 0.7\n",
            "[[0.4]\n",
            " [0.5]\n",
            " [0.6]\n",
            " [0.7]] 0.8\n",
            "[[0.5]\n",
            " [0.6]\n",
            " [0.7]\n",
            " [0.8]] 0.9\n",
            "(4, 1)\n"
          ],
          "name": "stdout"
        }
      ]
    },
    {
      "cell_type": "code",
      "metadata": {
        "id": "BTfBzUnTXr2v",
        "colab_type": "code",
        "outputId": "917d1d9e-9c83-4932-939d-2df4ae815999",
        "colab": {
          "base_uri": "https://localhost:8080/",
          "height": 221
        }
      },
      "source": [
        "# 7.2.1 SimpleRNN Layer\n",
        "\n",
        "import tensorflow as tf\n",
        "\n",
        "model = tf.keras.Sequential([\n",
        "    tf.keras.layers.SimpleRNN(units=10, return_sequences=False, input_shape=[4,1]),\n",
        "    tf.keras.layers.Dense(1)\n",
        "])\n",
        "\n",
        "model.compile(optimizer='adam', loss='mse')\n",
        "model.summary()"
      ],
      "execution_count": 3,
      "outputs": [
        {
          "output_type": "stream",
          "text": [
            "Model: \"sequential\"\n",
            "_________________________________________________________________\n",
            "Layer (type)                 Output Shape              Param #   \n",
            "=================================================================\n",
            "simple_rnn (SimpleRNN)       (None, 10)                120       \n",
            "_________________________________________________________________\n",
            "dense (Dense)                (None, 1)                 11        \n",
            "=================================================================\n",
            "Total params: 131\n",
            "Trainable params: 131\n",
            "Non-trainable params: 0\n",
            "_________________________________________________________________\n"
          ],
          "name": "stdout"
        }
      ]
    },
    {
      "cell_type": "code",
      "metadata": {
        "id": "9IKVC4SJYJGj",
        "colab_type": "code",
        "outputId": "f479bc1c-35db-4854-ccbe-9b89b2d753da",
        "colab": {
          "base_uri": "https://localhost:8080/",
          "height": 119
        }
      },
      "source": [
        "model.fit(X, Y, epochs=100, verbose=0)\n",
        "print(model.predict(X))"
      ],
      "execution_count": 4,
      "outputs": [
        {
          "output_type": "stream",
          "text": [
            "[[0.36052918]\n",
            " [0.5225967 ]\n",
            " [0.6476349 ]\n",
            " [0.73791057]\n",
            " [0.80008644]\n",
            " [0.8408473 ]]\n"
          ],
          "name": "stdout"
        }
      ]
    },
    {
      "cell_type": "code",
      "metadata": {
        "id": "LEVsOTdjYg30",
        "colab_type": "code",
        "outputId": "3082c568-b815-4224-8e96-3a2de43487e5",
        "colab": {
          "base_uri": "https://localhost:8080/",
          "height": 34
        }
      },
      "source": [
        "print(model.predict(np.array([[[-0.1], [0], [0.1], [0.2]]])))"
      ],
      "execution_count": 5,
      "outputs": [
        {
          "output_type": "stream",
          "text": [
            "[[0.16963908]]\n"
          ],
          "name": "stdout"
        }
      ]
    },
    {
      "cell_type": "code",
      "metadata": {
        "id": "mz0JTmFcrRPt",
        "colab_type": "code",
        "colab": {
          "base_uri": "https://localhost:8080/",
          "height": 34
        },
        "outputId": "ee9bfbe5-731e-4bd6-8bcf-71f39cdfcabd"
      },
      "source": [
        "lst = np.random.rand(100) #100 numbers of btwn 0 and 1\n",
        "idx = np.random.choice(100, 2, replace=False)\n",
        "print(lst[idx], np.prod(lst[idx]))"
      ],
      "execution_count": 8,
      "outputs": [
        {
          "output_type": "stream",
          "text": [
            "[0.82784223 0.18423529] 0.15251775743723972\n"
          ],
          "name": "stdout"
        }
      ]
    },
    {
      "cell_type": "code",
      "metadata": {
        "id": "e9HZw_2YYyHZ",
        "colab_type": "code",
        "outputId": "6ebdc182-e91f-474d-90be-e7d812bfb715",
        "colab": {
          "base_uri": "https://localhost:8080/",
          "height": 1000
        }
      },
      "source": [
        "# 7.2.2 LSTM Layer\n",
        "\n",
        "X = list(); Y = list();\n",
        "\n",
        "for i in range(3000):\n",
        "    lst = np.random.rand(100) #100 numbers of btwn 0 and 1\n",
        "    idx = np.random.choice(100, 2, replace=False)\n",
        "    zeros = np.zeros(100)\n",
        "    zeros[idx] = 1 #only two numbers are 1 in 100 float numbers\n",
        "\n",
        "    X.append(np.array(list(zip(zeros, lst))))\n",
        "    Y.append(np.prod(lst[idx])) #product\n",
        "\n",
        "print(X[0], Y[0])"
      ],
      "execution_count": 10,
      "outputs": [
        {
          "output_type": "stream",
          "text": [
            "[[1.         0.67346542]\n",
            " [0.         0.91945458]\n",
            " [0.         0.25189539]\n",
            " [0.         0.77951969]\n",
            " [0.         0.05633922]\n",
            " [0.         0.74434558]\n",
            " [0.         0.13132366]\n",
            " [0.         0.21101997]\n",
            " [0.         0.42956589]\n",
            " [0.         0.6955504 ]\n",
            " [0.         0.39597529]\n",
            " [0.         0.73913595]\n",
            " [0.         0.48226698]\n",
            " [0.         0.81854935]\n",
            " [0.         0.51340471]\n",
            " [0.         0.30925662]\n",
            " [0.         0.37221106]\n",
            " [0.         0.33261483]\n",
            " [0.         0.53220881]\n",
            " [0.         0.63012958]\n",
            " [0.         0.7514029 ]\n",
            " [0.         0.33425765]\n",
            " [0.         0.36728028]\n",
            " [0.         0.45820504]\n",
            " [0.         0.19149512]\n",
            " [0.         0.56034916]\n",
            " [0.         0.72768814]\n",
            " [0.         0.90854552]\n",
            " [0.         0.51555174]\n",
            " [0.         0.51808017]\n",
            " [0.         0.22845314]\n",
            " [0.         0.5378713 ]\n",
            " [0.         0.43359933]\n",
            " [0.         0.84407926]\n",
            " [0.         0.69613397]\n",
            " [0.         0.70882779]\n",
            " [0.         0.6635488 ]\n",
            " [0.         0.38144774]\n",
            " [0.         0.32037656]\n",
            " [0.         0.69423803]\n",
            " [0.         0.59743299]\n",
            " [0.         0.43319752]\n",
            " [0.         0.33813957]\n",
            " [0.         0.8532001 ]\n",
            " [0.         0.71539523]\n",
            " [0.         0.54822115]\n",
            " [0.         0.68737344]\n",
            " [0.         0.40613496]\n",
            " [0.         0.24630888]\n",
            " [0.         0.54843786]\n",
            " [0.         0.74553629]\n",
            " [0.         0.22247872]\n",
            " [0.         0.7680068 ]\n",
            " [0.         0.48619415]\n",
            " [0.         0.69580916]\n",
            " [0.         0.05463513]\n",
            " [0.         0.54821214]\n",
            " [0.         0.78949841]\n",
            " [0.         0.54940347]\n",
            " [0.         0.6747473 ]\n",
            " [0.         0.44924172]\n",
            " [0.         0.04017725]\n",
            " [0.         0.63084239]\n",
            " [1.         0.24530794]\n",
            " [0.         0.76712672]\n",
            " [0.         0.69551833]\n",
            " [0.         0.91946162]\n",
            " [0.         0.32807408]\n",
            " [0.         0.78277433]\n",
            " [0.         0.44999391]\n",
            " [0.         0.3600904 ]\n",
            " [0.         0.91940681]\n",
            " [0.         0.70800254]\n",
            " [0.         0.70033175]\n",
            " [0.         0.11304913]\n",
            " [0.         0.02270264]\n",
            " [0.         0.26148002]\n",
            " [0.         0.14170372]\n",
            " [0.         0.59469384]\n",
            " [0.         0.24463766]\n",
            " [0.         0.83874195]\n",
            " [0.         0.88919589]\n",
            " [0.         0.92372945]\n",
            " [0.         0.85361124]\n",
            " [0.         0.70917628]\n",
            " [0.         0.04577244]\n",
            " [0.         0.58644271]\n",
            " [0.         0.40736959]\n",
            " [0.         0.64559426]\n",
            " [0.         0.40786879]\n",
            " [0.         0.72851623]\n",
            " [0.         0.09788484]\n",
            " [0.         0.93954113]\n",
            " [0.         0.87942264]\n",
            " [0.         0.47593092]\n",
            " [0.         0.10054679]\n",
            " [0.         0.60298751]\n",
            " [0.         0.55770964]\n",
            " [0.         0.46896153]\n",
            " [0.         0.4125281 ]] 0.16520641516454415\n"
          ],
          "name": "stdout"
        }
      ]
    },
    {
      "cell_type": "code",
      "metadata": {
        "id": "MX7CB_IAcQ5I",
        "colab_type": "code",
        "colab": {}
      },
      "source": [
        "# SimpleRNN\n",
        "\n",
        "model = tf.keras.Sequential([   \n",
        "    tf.keras.layers.SimpleRNN(units=30, return_sequences=True, input_shape=[100,2] ), #레이어의 출력을 다음 레이어로 그대로 넘김\n",
        "    tf.keras.layers.SimpleRNN(units=30),\n",
        "    tf.keras.layers.Dense(1) #곱셈결과 1개만 출력\n",
        "])"
      ],
      "execution_count": 0,
      "outputs": []
    },
    {
      "cell_type": "code",
      "metadata": {
        "id": "l9KdomA_dvqB",
        "colab_type": "code",
        "colab": {
          "base_uri": "https://localhost:8080/",
          "height": 255
        },
        "outputId": "489a507a-51be-49c4-9255-1fdb83e984a1"
      },
      "source": [
        "model.compile(optimizer='adam', loss='mse')\n",
        "model.summary()"
      ],
      "execution_count": 12,
      "outputs": [
        {
          "output_type": "stream",
          "text": [
            "Model: \"sequential_1\"\n",
            "_________________________________________________________________\n",
            "Layer (type)                 Output Shape              Param #   \n",
            "=================================================================\n",
            "simple_rnn_1 (SimpleRNN)     (None, 100, 30)           990       \n",
            "_________________________________________________________________\n",
            "simple_rnn_2 (SimpleRNN)     (None, 30)                1830      \n",
            "_________________________________________________________________\n",
            "dense_1 (Dense)              (None, 1)                 31        \n",
            "=================================================================\n",
            "Total params: 2,851\n",
            "Trainable params: 2,851\n",
            "Non-trainable params: 0\n",
            "_________________________________________________________________\n"
          ],
          "name": "stdout"
        }
      ]
    },
    {
      "cell_type": "code",
      "metadata": {
        "id": "k5Er6X7ddvsU",
        "colab_type": "code",
        "colab": {
          "base_uri": "https://localhost:8080/",
          "height": 34
        },
        "outputId": "771db4c9-d726-429e-bef2-92e01205da49"
      },
      "source": [
        "X = np.array(X)\n",
        "Y = np.array(Y)\n",
        "\n",
        "print(X.shape, Y.shape)"
      ],
      "execution_count": 13,
      "outputs": [
        {
          "output_type": "stream",
          "text": [
            "(3000, 100, 2) (3000,)\n"
          ],
          "name": "stdout"
        }
      ]
    },
    {
      "cell_type": "code",
      "metadata": {
        "id": "GyChAcOPdvuD",
        "colab_type": "code",
        "colab": {}
      },
      "source": [
        "train_X = X[:2560]\n",
        "train_Y = Y[:2560]\n",
        "text_X = X[2560:]\n",
        "text_Y = Y[2560:]"
      ],
      "execution_count": 0,
      "outputs": []
    },
    {
      "cell_type": "code",
      "metadata": {
        "id": "Chqq6mSRdvwV",
        "colab_type": "code",
        "colab": {
          "base_uri": "https://localhost:8080/",
          "height": 867
        },
        "outputId": "9a941628-aaec-4fc1-a5c0-626a9eebfc36"
      },
      "source": [
        "history = model.fit(train_X, train_Y, epochs=25, validation_split=0.25)"
      ],
      "execution_count": 16,
      "outputs": [
        {
          "output_type": "stream",
          "text": [
            "Epoch 1/25\n",
            "60/60 [==============================] - 5s 83ms/step - loss: 0.0429 - val_loss: 0.0574\n",
            "Epoch 2/25\n",
            "60/60 [==============================] - 5s 81ms/step - loss: 0.0415 - val_loss: 0.0553\n",
            "Epoch 3/25\n",
            "60/60 [==============================] - 5s 80ms/step - loss: 0.0411 - val_loss: 0.0543\n",
            "Epoch 4/25\n",
            "60/60 [==============================] - 5s 80ms/step - loss: 0.0407 - val_loss: 0.0582\n",
            "Epoch 5/25\n",
            "60/60 [==============================] - 5s 82ms/step - loss: 0.0423 - val_loss: 0.0561\n",
            "Epoch 6/25\n",
            "60/60 [==============================] - 5s 80ms/step - loss: 0.0401 - val_loss: 0.0568\n",
            "Epoch 7/25\n",
            "60/60 [==============================] - 5s 82ms/step - loss: 0.0392 - val_loss: 0.0569\n",
            "Epoch 8/25\n",
            "60/60 [==============================] - 5s 87ms/step - loss: 0.0390 - val_loss: 0.0567\n",
            "Epoch 9/25\n",
            "60/60 [==============================] - 5s 84ms/step - loss: 0.0383 - val_loss: 0.0576\n",
            "Epoch 10/25\n",
            "60/60 [==============================] - 5s 82ms/step - loss: 0.0379 - val_loss: 0.0586\n",
            "Epoch 11/25\n",
            "60/60 [==============================] - 5s 80ms/step - loss: 0.0375 - val_loss: 0.0601\n",
            "Epoch 12/25\n",
            "60/60 [==============================] - 5s 81ms/step - loss: 0.0374 - val_loss: 0.0599\n",
            "Epoch 13/25\n",
            "60/60 [==============================] - 5s 81ms/step - loss: 0.0367 - val_loss: 0.0601\n",
            "Epoch 14/25\n",
            "60/60 [==============================] - 5s 81ms/step - loss: 0.0367 - val_loss: 0.0621\n",
            "Epoch 15/25\n",
            "60/60 [==============================] - 5s 80ms/step - loss: 0.0362 - val_loss: 0.0629\n",
            "Epoch 16/25\n",
            "60/60 [==============================] - 5s 79ms/step - loss: 0.0350 - val_loss: 0.0650\n",
            "Epoch 17/25\n",
            "60/60 [==============================] - 5s 81ms/step - loss: 0.0356 - val_loss: 0.0636\n",
            "Epoch 18/25\n",
            "60/60 [==============================] - 5s 83ms/step - loss: 0.0346 - val_loss: 0.0651\n",
            "Epoch 19/25\n",
            "60/60 [==============================] - 5s 81ms/step - loss: 0.0343 - val_loss: 0.0639\n",
            "Epoch 20/25\n",
            "60/60 [==============================] - 5s 82ms/step - loss: 0.0344 - val_loss: 0.0651\n",
            "Epoch 21/25\n",
            "60/60 [==============================] - 5s 81ms/step - loss: 0.0332 - val_loss: 0.0660\n",
            "Epoch 22/25\n",
            "60/60 [==============================] - 5s 82ms/step - loss: 0.0318 - val_loss: 0.0691\n",
            "Epoch 23/25\n",
            "60/60 [==============================] - 5s 81ms/step - loss: 0.0328 - val_loss: 0.0644\n",
            "Epoch 24/25\n",
            "60/60 [==============================] - 5s 81ms/step - loss: 0.0318 - val_loss: 0.0655\n",
            "Epoch 25/25\n",
            "60/60 [==============================] - 5s 80ms/step - loss: 0.0309 - val_loss: 0.0684\n"
          ],
          "name": "stdout"
        }
      ]
    },
    {
      "cell_type": "code",
      "metadata": {
        "id": "68lRA5Whdvyp",
        "colab_type": "code",
        "colab": {
          "base_uri": "https://localhost:8080/",
          "height": 279
        },
        "outputId": "4ef32d4d-b409-4340-ca56-bfee2fd88ba4"
      },
      "source": [
        "import matplotlib.pyplot as plt\n",
        "\n",
        "plt.plot(history.history['loss'], 'b-', label='loss')\n",
        "plt.plot(history.history['val_loss'], 'r--', label='val_loss')\n",
        "plt.xlabel('Epoch')\n",
        "plt.legend()\n",
        "plt.show()"
      ],
      "execution_count": 17,
      "outputs": [
        {
          "output_type": "display_data",
          "data": {
            "image/png": "[encoded data removed]",
            "text/plain": [
              "<Figure size 432x288 with 1 Axes>"
            ]
          },
          "metadata": {
            "tags": [],
            "needs_background": "light"
          }
        }
      ]
    },
    {
      "cell_type": "code",
      "metadata": {
        "id": "3ZI2M2HfvQzK",
        "colab_type": "code",
        "colab": {
          "base_uri": "https://localhost:8080/",
          "height": 51
        },
        "outputId": "c6141a38-97c3-42d7-c798-17207b6234dc"
      },
      "source": [
        "model.evaluate(text_X, text_Y)"
      ],
      "execution_count": 18,
      "outputs": [
        {
          "output_type": "stream",
          "text": [
            "14/14 [==============================] - 0s 14ms/step - loss: 0.0614\n"
          ],
          "name": "stdout"
        },
        {
          "output_type": "execute_result",
          "data": {
            "text/plain": [
              "0.06142017990350723"
            ]
          },
          "metadata": {
            "tags": []
          },
          "execution_count": 18
        }
      ]
    },
    {
      "cell_type": "code",
      "metadata": {
        "id": "q3qX-9WIvUJX",
        "colab_type": "code",
        "colab": {
          "base_uri": "https://localhost:8080/",
          "height": 102
        },
        "outputId": "129ee4ab-51c4-453a-a7ce-eb952afae094"
      },
      "source": [
        "# 5개의 테스트데이터로 예측\n",
        "prediction = model.predict(text_X[:5])\n",
        "for i in range(5):\n",
        "    print(text_Y[i], '\\t', predictions[i], '\\t diff : ', abs(prediction[i][0] - text_Y[i]))"
      ],
      "execution_count": 21,
      "outputs": [
        {
          "output_type": "stream",
          "text": [
            "0.35184474015775763 \t [0.41327676] \t diff :  0.061432021612490784\n",
            "0.18696854961307102 \t [0.3889612] \t diff :  0.20199264633266872\n",
            "0.1594355142118077 \t [0.32419938] \t diff :  0.1647638642786403\n",
            "0.8095629081168317 \t [0.09277081] \t diff :  0.7167921006717825\n",
            "0.2968040470125039 \t [0.5305727] \t diff :  0.23376866540891333\n"
          ],
          "name": "stdout"
        }
      ]
    },
    {
      "cell_type": "code",
      "metadata": {
        "id": "BcaMomDTdv0q",
        "colab_type": "code",
        "colab": {
          "base_uri": "https://localhost:8080/",
          "height": 34
        },
        "outputId": "cda5e453-44ef-41f2-f1c5-21eb1e3587c1"
      },
      "source": [
        "# simpleRNN 정확도 : 너무 낮음(약10%)\n",
        "\n",
        "prediction = model.predict(text_X)\n",
        "fail = 0\n",
        "for i in range(len(prediction)):\n",
        "    if abs(prediction[i][0] - text_Y[i]) > 0.04:\n",
        "        fail += 1\n",
        "\n",
        "print('Accuracy : ', (len(prediction)-fail)/len(prediction)*100)"
      ],
      "execution_count": 23,
      "outputs": [
        {
          "output_type": "stream",
          "text": [
            "Accuracy :  11.59090909090909\n"
          ],
          "name": "stdout"
        }
      ]
    },
    {
      "cell_type": "code",
      "metadata": {
        "id": "YyZq_bmoxzu_",
        "colab_type": "code",
        "colab": {
          "base_uri": "https://localhost:8080/",
          "height": 255
        },
        "outputId": "71ea8ee8-67c5-4867-c38a-f7a4afece254"
      },
      "source": [
        "# LSTM\n",
        "\n",
        "model = tf.keras.Sequential([\n",
        "    tf.keras.layers.LSTM(units=30, return_sequences=True, input_shape=[100,2]),\n",
        "    tf.keras.layers.LSTM(units=30),\n",
        "    tf.keras.layers.Dense(1)\n",
        "])\n",
        "\n",
        "model.compile(optimizer='adam', loss='mse')\n",
        "model.summary()"
      ],
      "execution_count": 30,
      "outputs": [
        {
          "output_type": "stream",
          "text": [
            "Model: \"sequential_3\"\n",
            "_________________________________________________________________\n",
            "Layer (type)                 Output Shape              Param #   \n",
            "=================================================================\n",
            "lstm_2 (LSTM)                (None, 100, 30)           3960      \n",
            "_________________________________________________________________\n",
            "lstm_3 (LSTM)                (None, 30)                7320      \n",
            "_________________________________________________________________\n",
            "dense_3 (Dense)              (None, 1)                 31        \n",
            "=================================================================\n",
            "Total params: 11,311\n",
            "Trainable params: 11,311\n",
            "Non-trainable params: 0\n",
            "_________________________________________________________________\n"
          ],
          "name": "stdout"
        }
      ]
    },
    {
      "cell_type": "code",
      "metadata": {
        "id": "YmL2qf9QyMCi",
        "colab_type": "code",
        "colab": {
          "base_uri": "https://localhost:8080/",
          "height": 1000
        },
        "outputId": "d3dfd77c-6e0b-401c-d00e-e272a58cd72b"
      },
      "source": [
        "history = model.fit(train_X, train_Y, epochs=100, validation_split=0.25)"
      ],
      "execution_count": 31,
      "outputs": [
        {
          "output_type": "stream",
          "text": [
            "Epoch 1/100\n",
            "60/60 [==============================] - 1s 18ms/step - loss: 0.0504 - val_loss: 0.0494\n",
            "Epoch 2/100\n",
            "60/60 [==============================] - 1s 10ms/step - loss: 0.0495 - val_loss: 0.0498\n",
            "Epoch 3/100\n",
            "60/60 [==============================] - 1s 10ms/step - loss: 0.0493 - val_loss: 0.0494\n",
            "Epoch 4/100\n",
            "60/60 [==============================] - 1s 10ms/step - loss: 0.0498 - val_loss: 0.0499\n",
            "Epoch 5/100\n",
            "60/60 [==============================] - 1s 10ms/step - loss: 0.0494 - val_loss: 0.0518\n",
            "Epoch 6/100\n",
            "60/60 [==============================] - 1s 10ms/step - loss: 0.0491 - val_loss: 0.0495\n",
            "Epoch 7/100\n",
            "60/60 [==============================] - 1s 10ms/step - loss: 0.0498 - val_loss: 0.0495\n",
            "Epoch 8/100\n",
            "60/60 [==============================] - 1s 10ms/step - loss: 0.0490 - val_loss: 0.0498\n",
            "Epoch 9/100\n",
            "60/60 [==============================] - 1s 10ms/step - loss: 0.0491 - val_loss: 0.0497\n",
            "Epoch 10/100\n",
            "60/60 [==============================] - 1s 10ms/step - loss: 0.0490 - val_loss: 0.0497\n",
            "Epoch 11/100\n",
            "60/60 [==============================] - 1s 10ms/step - loss: 0.0492 - val_loss: 0.0498\n",
            "Epoch 12/100\n",
            "60/60 [==============================] - 1s 10ms/step - loss: 0.0491 - val_loss: 0.0497\n",
            "Epoch 13/100\n",
            "60/60 [==============================] - 1s 10ms/step - loss: 0.0489 - val_loss: 0.0498\n",
            "Epoch 14/100\n",
            "60/60 [==============================] - 1s 10ms/step - loss: 0.0490 - val_loss: 0.0498\n",
            "Epoch 15/100\n",
            "60/60 [==============================] - 1s 10ms/step - loss: 0.0489 - val_loss: 0.0498\n",
            "Epoch 16/100\n",
            "60/60 [==============================] - 1s 10ms/step - loss: 0.0494 - val_loss: 0.0497\n",
            "Epoch 17/100\n",
            "60/60 [==============================] - 1s 10ms/step - loss: 0.0489 - val_loss: 0.0497\n",
            "Epoch 18/100\n",
            "60/60 [==============================] - 1s 10ms/step - loss: 0.0489 - val_loss: 0.0497\n",
            "Epoch 19/100\n",
            "60/60 [==============================] - 1s 10ms/step - loss: 0.0489 - val_loss: 0.0498\n",
            "Epoch 20/100\n",
            "60/60 [==============================] - 1s 10ms/step - loss: 0.0488 - val_loss: 0.0501\n",
            "Epoch 21/100\n",
            "60/60 [==============================] - 1s 10ms/step - loss: 0.0491 - val_loss: 0.0497\n",
            "Epoch 22/100\n",
            "60/60 [==============================] - 1s 10ms/step - loss: 0.0490 - val_loss: 0.0498\n",
            "Epoch 23/100\n",
            "60/60 [==============================] - 1s 10ms/step - loss: 0.0484 - val_loss: 0.0505\n",
            "Epoch 24/100\n",
            "60/60 [==============================] - 1s 10ms/step - loss: 0.0485 - val_loss: 0.0500\n",
            "Epoch 25/100\n",
            "60/60 [==============================] - 1s 10ms/step - loss: 0.0484 - val_loss: 0.0491\n",
            "Epoch 26/100\n",
            "60/60 [==============================] - 1s 10ms/step - loss: 0.0485 - val_loss: 0.0495\n",
            "Epoch 27/100\n",
            "60/60 [==============================] - 1s 10ms/step - loss: 0.0483 - val_loss: 0.0501\n",
            "Epoch 28/100\n",
            "60/60 [==============================] - 1s 10ms/step - loss: 0.0478 - val_loss: 0.0486\n",
            "Epoch 29/100\n",
            "60/60 [==============================] - 1s 10ms/step - loss: 0.0472 - val_loss: 0.0501\n",
            "Epoch 30/100\n",
            "60/60 [==============================] - 1s 10ms/step - loss: 0.0453 - val_loss: 0.0390\n",
            "Epoch 31/100\n",
            "60/60 [==============================] - 1s 10ms/step - loss: 0.0517 - val_loss: 0.0488\n",
            "Epoch 32/100\n",
            "60/60 [==============================] - 1s 10ms/step - loss: 0.0471 - val_loss: 0.0484\n",
            "Epoch 33/100\n",
            "60/60 [==============================] - 1s 10ms/step - loss: 0.0463 - val_loss: 0.0483\n",
            "Epoch 34/100\n",
            "60/60 [==============================] - 1s 10ms/step - loss: 0.0459 - val_loss: 0.0463\n",
            "Epoch 35/100\n",
            "60/60 [==============================] - 1s 10ms/step - loss: 0.0416 - val_loss: 0.0389\n",
            "Epoch 36/100\n",
            "60/60 [==============================] - 1s 10ms/step - loss: 0.0292 - val_loss: 0.0138\n",
            "Epoch 37/100\n",
            "60/60 [==============================] - 1s 10ms/step - loss: 0.0095 - val_loss: 0.0079\n",
            "Epoch 38/100\n",
            "60/60 [==============================] - 1s 10ms/step - loss: 0.0132 - val_loss: 0.0085\n",
            "Epoch 39/100\n",
            "60/60 [==============================] - 1s 10ms/step - loss: 0.0088 - val_loss: 0.0063\n",
            "Epoch 40/100\n",
            "60/60 [==============================] - 1s 10ms/step - loss: 0.0071 - val_loss: 0.0059\n",
            "Epoch 41/100\n",
            "60/60 [==============================] - 1s 10ms/step - loss: 0.0050 - val_loss: 0.0040\n",
            "Epoch 42/100\n",
            "60/60 [==============================] - 1s 10ms/step - loss: 0.0057 - val_loss: 0.0041\n",
            "Epoch 43/100\n",
            "60/60 [==============================] - 1s 10ms/step - loss: 0.0042 - val_loss: 0.0032\n",
            "Epoch 44/100\n",
            "60/60 [==============================] - 1s 10ms/step - loss: 0.0035 - val_loss: 0.0038\n",
            "Epoch 45/100\n",
            "60/60 [==============================] - 1s 10ms/step - loss: 0.0043 - val_loss: 0.0042\n",
            "Epoch 46/100\n",
            "60/60 [==============================] - 1s 10ms/step - loss: 0.0041 - val_loss: 0.0028\n",
            "Epoch 47/100\n",
            "60/60 [==============================] - 1s 10ms/step - loss: 0.0028 - val_loss: 0.0032\n",
            "Epoch 48/100\n",
            "60/60 [==============================] - 1s 10ms/step - loss: 0.0031 - val_loss: 0.0021\n",
            "Epoch 49/100\n",
            "60/60 [==============================] - 1s 10ms/step - loss: 0.0027 - val_loss: 0.0020\n",
            "Epoch 50/100\n",
            "60/60 [==============================] - 1s 10ms/step - loss: 0.0024 - val_loss: 0.0021\n",
            "Epoch 51/100\n",
            "60/60 [==============================] - 1s 10ms/step - loss: 0.0027 - val_loss: 0.0022\n",
            "Epoch 52/100\n",
            "60/60 [==============================] - 1s 10ms/step - loss: 0.0019 - val_loss: 0.0025\n",
            "Epoch 53/100\n",
            "60/60 [==============================] - 1s 10ms/step - loss: 0.0018 - val_loss: 0.0019\n",
            "Epoch 54/100\n",
            "60/60 [==============================] - 1s 10ms/step - loss: 0.0032 - val_loss: 0.0037\n",
            "Epoch 55/100\n",
            "60/60 [==============================] - 1s 10ms/step - loss: 0.0020 - val_loss: 0.0020\n",
            "Epoch 56/100\n",
            "60/60 [==============================] - 1s 10ms/step - loss: 0.0021 - val_loss: 0.0020\n",
            "Epoch 57/100\n",
            "60/60 [==============================] - 1s 10ms/step - loss: 0.0017 - val_loss: 0.0019\n",
            "Epoch 58/100\n",
            "60/60 [==============================] - 1s 10ms/step - loss: 0.0021 - val_loss: 0.0022\n",
            "Epoch 59/100\n",
            "60/60 [==============================] - 1s 10ms/step - loss: 0.0014 - val_loss: 0.0025\n",
            "Epoch 60/100\n",
            "60/60 [==============================] - 1s 10ms/step - loss: 0.0014 - val_loss: 0.0016\n",
            "Epoch 61/100\n",
            "60/60 [==============================] - 1s 10ms/step - loss: 0.0017 - val_loss: 0.0047\n",
            "Epoch 62/100\n",
            "60/60 [==============================] - 1s 10ms/step - loss: 0.0015 - val_loss: 0.0013\n",
            "Epoch 63/100\n",
            "60/60 [==============================] - 1s 10ms/step - loss: 0.0013 - val_loss: 0.0012\n",
            "Epoch 64/100\n",
            "60/60 [==============================] - 1s 10ms/step - loss: 0.0013 - val_loss: 0.0012\n",
            "Epoch 65/100\n",
            "60/60 [==============================] - 1s 10ms/step - loss: 0.0011 - val_loss: 0.0015\n",
            "Epoch 66/100\n",
            "60/60 [==============================] - 1s 10ms/step - loss: 0.0011 - val_loss: 0.0012\n",
            "Epoch 67/100\n",
            "60/60 [==============================] - 1s 10ms/step - loss: 0.0012 - val_loss: 0.0018\n",
            "Epoch 68/100\n",
            "60/60 [==============================] - 1s 10ms/step - loss: 0.0012 - val_loss: 0.0011\n",
            "Epoch 69/100\n",
            "60/60 [==============================] - 1s 10ms/step - loss: 0.0012 - val_loss: 0.0011\n",
            "Epoch 70/100\n",
            "60/60 [==============================] - 1s 10ms/step - loss: 9.6020e-04 - val_loss: 9.0423e-04\n",
            "Epoch 71/100\n",
            "60/60 [==============================] - 1s 10ms/step - loss: 7.8780e-04 - val_loss: 0.0012\n",
            "Epoch 72/100\n",
            "60/60 [==============================] - 1s 10ms/step - loss: 0.0012 - val_loss: 9.1494e-04\n",
            "Epoch 73/100\n",
            "60/60 [==============================] - 1s 10ms/step - loss: 0.0010 - val_loss: 8.2558e-04\n",
            "Epoch 74/100\n",
            "60/60 [==============================] - 1s 10ms/step - loss: 7.3370e-04 - val_loss: 0.0012\n",
            "Epoch 75/100\n",
            "60/60 [==============================] - 1s 10ms/step - loss: 7.0776e-04 - val_loss: 8.4348e-04\n",
            "Epoch 76/100\n",
            "60/60 [==============================] - 1s 10ms/step - loss: 6.9392e-04 - val_loss: 8.9719e-04\n",
            "Epoch 77/100\n",
            "60/60 [==============================] - 1s 10ms/step - loss: 7.7175e-04 - val_loss: 9.2175e-04\n",
            "Epoch 78/100\n",
            "60/60 [==============================] - 1s 10ms/step - loss: 8.3271e-04 - val_loss: 7.2253e-04\n",
            "Epoch 79/100\n",
            "60/60 [==============================] - 1s 10ms/step - loss: 6.9445e-04 - val_loss: 7.1519e-04\n",
            "Epoch 80/100\n",
            "60/60 [==============================] - 1s 10ms/step - loss: 6.6100e-04 - val_loss: 6.4915e-04\n",
            "Epoch 81/100\n",
            "60/60 [==============================] - 1s 10ms/step - loss: 7.2843e-04 - val_loss: 0.0024\n",
            "Epoch 82/100\n",
            "60/60 [==============================] - 1s 10ms/step - loss: 0.0010 - val_loss: 0.0011\n",
            "Epoch 83/100\n",
            "60/60 [==============================] - 1s 10ms/step - loss: 7.4141e-04 - val_loss: 8.9747e-04\n",
            "Epoch 84/100\n",
            "60/60 [==============================] - 1s 10ms/step - loss: 6.3114e-04 - val_loss: 6.3815e-04\n",
            "Epoch 85/100\n",
            "60/60 [==============================] - 1s 10ms/step - loss: 4.9627e-04 - val_loss: 6.5267e-04\n",
            "Epoch 86/100\n",
            "60/60 [==============================] - 1s 10ms/step - loss: 5.2627e-04 - val_loss: 6.6292e-04\n",
            "Epoch 87/100\n",
            "60/60 [==============================] - 1s 10ms/step - loss: 7.9339e-04 - val_loss: 9.9056e-04\n",
            "Epoch 88/100\n",
            "60/60 [==============================] - 1s 11ms/step - loss: 5.5221e-04 - val_loss: 5.3183e-04\n",
            "Epoch 89/100\n",
            "60/60 [==============================] - 1s 10ms/step - loss: 4.9471e-04 - val_loss: 8.4410e-04\n",
            "Epoch 90/100\n",
            "60/60 [==============================] - 1s 10ms/step - loss: 6.1998e-04 - val_loss: 7.5819e-04\n",
            "Epoch 91/100\n",
            "60/60 [==============================] - 1s 10ms/step - loss: 5.0572e-04 - val_loss: 7.9406e-04\n",
            "Epoch 92/100\n",
            "60/60 [==============================] - 1s 10ms/step - loss: 8.9033e-04 - val_loss: 8.1086e-04\n",
            "Epoch 93/100\n",
            "60/60 [==============================] - 1s 10ms/step - loss: 6.4804e-04 - val_loss: 6.0404e-04\n",
            "Epoch 94/100\n",
            "60/60 [==============================] - 1s 10ms/step - loss: 3.6290e-04 - val_loss: 4.7021e-04\n",
            "Epoch 95/100\n",
            "60/60 [==============================] - 1s 10ms/step - loss: 4.0695e-04 - val_loss: 4.4208e-04\n",
            "Epoch 96/100\n",
            "60/60 [==============================] - 1s 10ms/step - loss: 4.6567e-04 - val_loss: 6.2989e-04\n",
            "Epoch 97/100\n",
            "60/60 [==============================] - 1s 10ms/step - loss: 4.3037e-04 - val_loss: 4.7609e-04\n",
            "Epoch 98/100\n",
            "60/60 [==============================] - 1s 10ms/step - loss: 4.1815e-04 - val_loss: 4.7815e-04\n",
            "Epoch 99/100\n",
            "60/60 [==============================] - 1s 10ms/step - loss: 4.8235e-04 - val_loss: 3.9161e-04\n",
            "Epoch 100/100\n",
            "60/60 [==============================] - 1s 10ms/step - loss: 0.0015 - val_loss: 0.0011\n"
          ],
          "name": "stdout"
        }
      ]
    },
    {
      "cell_type": "code",
      "metadata": {
        "id": "IN05Z3ck0YHP",
        "colab_type": "code",
        "colab": {
          "base_uri": "https://localhost:8080/",
          "height": 279
        },
        "outputId": "cc2d404f-db1c-4e82-c81d-00c75ad24b22"
      },
      "source": [
        "import matplotlib.pyplot as plt\n",
        "plt.plot(history.history['loss'], 'b-', label='loss')\n",
        "plt.plot(history.history['val_loss'], 'r--', label='val_loss')\n",
        "plt.xlabel('Epoch')\n",
        "plt.legend()\n",
        "plt.show()"
      ],
      "execution_count": 32,
      "outputs": [
        {
          "output_type": "display_data",
          "data": {
            "image/png": "[encoded data removed]",
            "text/plain": [
              "<Figure size 432x288 with 1 Axes>"
            ]
          },
          "metadata": {
            "tags": [],
            "needs_background": "light"
          }
        }
      ]
    },
    {
      "cell_type": "code",
      "metadata": {
        "id": "8qyLQJLv0qmN",
        "colab_type": "code",
        "colab": {
          "base_uri": "https://localhost:8080/",
          "height": 34
        },
        "outputId": "3b3416a6-9a4c-4e6d-d871-9426df59c369"
      },
      "source": [
        "# LSTM 정확도 : simpleRNN보다 높음\n",
        "\n",
        "prediction = model.predict(text_X)\n",
        "fail = 0\n",
        "for i in range(len(prediction)):\n",
        "    if abs(prediction[i][0] - text_Y[i]) > 0.04:\n",
        "        fail += 1\n",
        "\n",
        "print('Accuracy : ', (len(prediction)-fail)/len(prediction)*100)"
      ],
      "execution_count": 33,
      "outputs": [
        {
          "output_type": "stream",
          "text": [
            "Accuracy :  78.18181818181819\n"
          ],
          "name": "stdout"
        }
      ]
    },
    {
      "cell_type": "code",
      "metadata": {
        "id": "q8uNIWcidv2y",
        "colab_type": "code",
        "colab": {
          "base_uri": "https://localhost:8080/",
          "height": 255
        },
        "outputId": "87fa5b4d-795b-4654-c9a7-63ac2b22bc8d"
      },
      "source": [
        "# 7.2.3 GRU Layer\n",
        "model = tf.keras.Sequential([\n",
        "    tf.keras.layers.GRU(units=30, return_sequences=True, input_shape=[100,2]),\n",
        "    tf.keras.layers.GRU(units=30),\n",
        "    tf.keras.layers.Dense(1)\n",
        "])\n",
        "model.compile(optimizer='adam', loss='mse')\n",
        "model.summary()"
      ],
      "execution_count": 34,
      "outputs": [
        {
          "output_type": "stream",
          "text": [
            "Model: \"sequential_4\"\n",
            "_________________________________________________________________\n",
            "Layer (type)                 Output Shape              Param #   \n",
            "=================================================================\n",
            "gru (GRU)                    (None, 100, 30)           3060      \n",
            "_________________________________________________________________\n",
            "gru_1 (GRU)                  (None, 30)                5580      \n",
            "_________________________________________________________________\n",
            "dense_4 (Dense)              (None, 1)                 31        \n",
            "=================================================================\n",
            "Total params: 8,671\n",
            "Trainable params: 8,671\n",
            "Non-trainable params: 0\n",
            "_________________________________________________________________\n"
          ],
          "name": "stdout"
        }
      ]
    },
    {
      "cell_type": "code",
      "metadata": {
        "id": "6cn2nKqb0XW8",
        "colab_type": "code",
        "colab": {
          "base_uri": "https://localhost:8080/",
          "height": 1000
        },
        "outputId": "e747090f-62f2-465b-f2a7-d056c805d081"
      },
      "source": [
        "history = model.fit(train_X, train_Y, epochs=100, validation_split=0.25)"
      ],
      "execution_count": 35,
      "outputs": [
        {
          "output_type": "stream",
          "text": [
            "Epoch 1/100\n",
            "60/60 [==============================] - 1s 20ms/step - loss: 0.0525 - val_loss: 0.0497\n",
            "Epoch 2/100\n",
            "60/60 [==============================] - 1s 12ms/step - loss: 0.0505 - val_loss: 0.0560\n",
            "Epoch 3/100\n",
            "60/60 [==============================] - 1s 12ms/step - loss: 0.0500 - val_loss: 0.0502\n",
            "Epoch 4/100\n",
            "60/60 [==============================] - 1s 12ms/step - loss: 0.0490 - val_loss: 0.0498\n",
            "Epoch 5/100\n",
            "60/60 [==============================] - 1s 12ms/step - loss: 0.0496 - val_loss: 0.0503\n",
            "Epoch 6/100\n",
            "60/60 [==============================] - 1s 12ms/step - loss: 0.0492 - val_loss: 0.0504\n",
            "Epoch 7/100\n",
            "60/60 [==============================] - 1s 12ms/step - loss: 0.0494 - val_loss: 0.0502\n",
            "Epoch 8/100\n",
            "60/60 [==============================] - 1s 12ms/step - loss: 0.0489 - val_loss: 0.0500\n",
            "Epoch 9/100\n",
            "60/60 [==============================] - 1s 12ms/step - loss: 0.0489 - val_loss: 0.0519\n",
            "Epoch 10/100\n",
            "60/60 [==============================] - 1s 12ms/step - loss: 0.0487 - val_loss: 0.0496\n",
            "Epoch 11/100\n",
            "60/60 [==============================] - 1s 12ms/step - loss: 0.0484 - val_loss: 0.0501\n",
            "Epoch 12/100\n",
            "60/60 [==============================] - 1s 12ms/step - loss: 0.0491 - val_loss: 0.0494\n",
            "Epoch 13/100\n",
            "60/60 [==============================] - 1s 12ms/step - loss: 0.0483 - val_loss: 0.0498\n",
            "Epoch 14/100\n",
            "60/60 [==============================] - 1s 12ms/step - loss: 0.0479 - val_loss: 0.0493\n",
            "Epoch 15/100\n",
            "60/60 [==============================] - 1s 12ms/step - loss: 0.0473 - val_loss: 0.0488\n",
            "Epoch 16/100\n",
            "60/60 [==============================] - 1s 12ms/step - loss: 0.0463 - val_loss: 0.0474\n",
            "Epoch 17/100\n",
            "60/60 [==============================] - 1s 12ms/step - loss: 0.0290 - val_loss: 0.0093\n",
            "Epoch 18/100\n",
            "60/60 [==============================] - 1s 12ms/step - loss: 0.0066 - val_loss: 0.0049\n",
            "Epoch 19/100\n",
            "60/60 [==============================] - 1s 12ms/step - loss: 0.0043 - val_loss: 0.0036\n",
            "Epoch 20/100\n",
            "60/60 [==============================] - 1s 12ms/step - loss: 0.0032 - val_loss: 0.0030\n",
            "Epoch 21/100\n",
            "60/60 [==============================] - 1s 12ms/step - loss: 0.0027 - val_loss: 0.0026\n",
            "Epoch 22/100\n",
            "60/60 [==============================] - 1s 12ms/step - loss: 0.0025 - val_loss: 0.0020\n",
            "Epoch 23/100\n",
            "60/60 [==============================] - 1s 12ms/step - loss: 0.0021 - val_loss: 0.0020\n",
            "Epoch 24/100\n",
            "60/60 [==============================] - 1s 12ms/step - loss: 0.0017 - val_loss: 0.0018\n",
            "Epoch 25/100\n",
            "60/60 [==============================] - 1s 12ms/step - loss: 0.0015 - val_loss: 0.0016\n",
            "Epoch 26/100\n",
            "60/60 [==============================] - 1s 12ms/step - loss: 0.0014 - val_loss: 0.0018\n",
            "Epoch 27/100\n",
            "60/60 [==============================] - 1s 12ms/step - loss: 0.0012 - val_loss: 0.0013\n",
            "Epoch 28/100\n",
            "60/60 [==============================] - 1s 12ms/step - loss: 0.0011 - val_loss: 0.0012\n",
            "Epoch 29/100\n",
            "60/60 [==============================] - 1s 12ms/step - loss: 9.8286e-04 - val_loss: 0.0012\n",
            "Epoch 30/100\n",
            "60/60 [==============================] - 1s 12ms/step - loss: 9.5702e-04 - val_loss: 0.0011\n",
            "Epoch 31/100\n",
            "60/60 [==============================] - 1s 13ms/step - loss: 9.0330e-04 - val_loss: 0.0012\n",
            "Epoch 32/100\n",
            "60/60 [==============================] - 1s 12ms/step - loss: 8.7702e-04 - val_loss: 0.0012\n",
            "Epoch 33/100\n",
            "60/60 [==============================] - 1s 12ms/step - loss: 8.0098e-04 - val_loss: 9.5402e-04\n",
            "Epoch 34/100\n",
            "60/60 [==============================] - 1s 12ms/step - loss: 9.3861e-04 - val_loss: 0.0012\n",
            "Epoch 35/100\n",
            "60/60 [==============================] - 1s 12ms/step - loss: 8.3442e-04 - val_loss: 9.9961e-04\n",
            "Epoch 36/100\n",
            "60/60 [==============================] - 1s 12ms/step - loss: 6.9963e-04 - val_loss: 9.6712e-04\n",
            "Epoch 37/100\n",
            "60/60 [==============================] - 1s 12ms/step - loss: 7.3288e-04 - val_loss: 8.8119e-04\n",
            "Epoch 38/100\n",
            "60/60 [==============================] - 1s 12ms/step - loss: 7.9251e-04 - val_loss: 0.0010\n",
            "Epoch 39/100\n",
            "60/60 [==============================] - 1s 12ms/step - loss: 6.7077e-04 - val_loss: 0.0013\n",
            "Epoch 40/100\n",
            "60/60 [==============================] - 1s 12ms/step - loss: 7.3021e-04 - val_loss: 8.7937e-04\n",
            "Epoch 41/100\n",
            "60/60 [==============================] - 1s 12ms/step - loss: 6.8319e-04 - val_loss: 0.0012\n",
            "Epoch 42/100\n",
            "60/60 [==============================] - 1s 12ms/step - loss: 7.5942e-04 - val_loss: 7.9531e-04\n",
            "Epoch 43/100\n",
            "60/60 [==============================] - 1s 12ms/step - loss: 6.5144e-04 - val_loss: 7.9153e-04\n",
            "Epoch 44/100\n",
            "60/60 [==============================] - 1s 12ms/step - loss: 5.7494e-04 - val_loss: 7.6312e-04\n",
            "Epoch 45/100\n",
            "60/60 [==============================] - 1s 12ms/step - loss: 5.6232e-04 - val_loss: 6.7733e-04\n",
            "Epoch 46/100\n",
            "60/60 [==============================] - 1s 12ms/step - loss: 5.8490e-04 - val_loss: 6.9439e-04\n",
            "Epoch 47/100\n",
            "60/60 [==============================] - 1s 12ms/step - loss: 5.3025e-04 - val_loss: 6.3738e-04\n",
            "Epoch 48/100\n",
            "60/60 [==============================] - 1s 12ms/step - loss: 5.0251e-04 - val_loss: 6.8320e-04\n",
            "Epoch 49/100\n",
            "60/60 [==============================] - 1s 12ms/step - loss: 5.8089e-04 - val_loss: 7.1820e-04\n",
            "Epoch 50/100\n",
            "60/60 [==============================] - 1s 12ms/step - loss: 5.7469e-04 - val_loss: 5.8425e-04\n",
            "Epoch 51/100\n",
            "60/60 [==============================] - 1s 12ms/step - loss: 5.2506e-04 - val_loss: 5.9313e-04\n",
            "Epoch 52/100\n",
            "60/60 [==============================] - 1s 12ms/step - loss: 5.4092e-04 - val_loss: 6.3617e-04\n",
            "Epoch 53/100\n",
            "60/60 [==============================] - 1s 12ms/step - loss: 4.6253e-04 - val_loss: 5.4711e-04\n",
            "Epoch 54/100\n",
            "60/60 [==============================] - 1s 12ms/step - loss: 4.3158e-04 - val_loss: 5.1819e-04\n",
            "Epoch 55/100\n",
            "60/60 [==============================] - 1s 12ms/step - loss: 4.9922e-04 - val_loss: 5.5048e-04\n",
            "Epoch 56/100\n",
            "60/60 [==============================] - 1s 12ms/step - loss: 4.0161e-04 - val_loss: 4.7972e-04\n",
            "Epoch 57/100\n",
            "60/60 [==============================] - 1s 12ms/step - loss: 4.6099e-04 - val_loss: 5.1779e-04\n",
            "Epoch 58/100\n",
            "60/60 [==============================] - 1s 12ms/step - loss: 3.9315e-04 - val_loss: 4.8161e-04\n",
            "Epoch 59/100\n",
            "60/60 [==============================] - 1s 12ms/step - loss: 3.8711e-04 - val_loss: 4.9082e-04\n",
            "Epoch 60/100\n",
            "60/60 [==============================] - 1s 12ms/step - loss: 4.3528e-04 - val_loss: 4.4075e-04\n",
            "Epoch 61/100\n",
            "60/60 [==============================] - 1s 12ms/step - loss: 4.3002e-04 - val_loss: 5.1006e-04\n",
            "Epoch 62/100\n",
            "60/60 [==============================] - 1s 12ms/step - loss: 4.0774e-04 - val_loss: 4.3372e-04\n",
            "Epoch 63/100\n",
            "60/60 [==============================] - 1s 12ms/step - loss: 4.4535e-04 - val_loss: 4.3341e-04\n",
            "Epoch 64/100\n",
            "60/60 [==============================] - 1s 12ms/step - loss: 3.8580e-04 - val_loss: 4.8532e-04\n",
            "Epoch 65/100\n",
            "60/60 [==============================] - 1s 12ms/step - loss: 3.2329e-04 - val_loss: 6.1593e-04\n",
            "Epoch 66/100\n",
            "60/60 [==============================] - 1s 12ms/step - loss: 4.6804e-04 - val_loss: 3.8877e-04\n",
            "Epoch 67/100\n",
            "60/60 [==============================] - 1s 12ms/step - loss: 3.2577e-04 - val_loss: 3.6863e-04\n",
            "Epoch 68/100\n",
            "60/60 [==============================] - 1s 12ms/step - loss: 3.6607e-04 - val_loss: 6.1608e-04\n",
            "Epoch 69/100\n",
            "60/60 [==============================] - 1s 12ms/step - loss: 3.4065e-04 - val_loss: 3.6404e-04\n",
            "Epoch 70/100\n",
            "60/60 [==============================] - 1s 12ms/step - loss: 2.8879e-04 - val_loss: 3.4681e-04\n",
            "Epoch 71/100\n",
            "60/60 [==============================] - 1s 12ms/step - loss: 4.1818e-04 - val_loss: 7.4276e-04\n",
            "Epoch 72/100\n",
            "60/60 [==============================] - 1s 12ms/step - loss: 3.3233e-04 - val_loss: 3.4128e-04\n",
            "Epoch 73/100\n",
            "60/60 [==============================] - 1s 12ms/step - loss: 3.2774e-04 - val_loss: 5.6260e-04\n",
            "Epoch 74/100\n",
            "60/60 [==============================] - 1s 12ms/step - loss: 3.3400e-04 - val_loss: 4.1687e-04\n",
            "Epoch 75/100\n",
            "60/60 [==============================] - 1s 15ms/step - loss: 3.2510e-04 - val_loss: 3.5397e-04\n",
            "Epoch 76/100\n",
            "60/60 [==============================] - 1s 12ms/step - loss: 2.7621e-04 - val_loss: 3.5814e-04\n",
            "Epoch 77/100\n",
            "60/60 [==============================] - 1s 12ms/step - loss: 2.6928e-04 - val_loss: 4.1490e-04\n",
            "Epoch 78/100\n",
            "60/60 [==============================] - 1s 12ms/step - loss: 2.9818e-04 - val_loss: 2.8484e-04\n",
            "Epoch 79/100\n",
            "60/60 [==============================] - 1s 12ms/step - loss: 2.3682e-04 - val_loss: 4.4559e-04\n",
            "Epoch 80/100\n",
            "60/60 [==============================] - 1s 12ms/step - loss: 2.7458e-04 - val_loss: 2.8001e-04\n",
            "Epoch 81/100\n",
            "60/60 [==============================] - 1s 12ms/step - loss: 2.6026e-04 - val_loss: 3.0162e-04\n",
            "Epoch 82/100\n",
            "60/60 [==============================] - 1s 12ms/step - loss: 2.5156e-04 - val_loss: 3.0852e-04\n",
            "Epoch 83/100\n",
            "60/60 [==============================] - 1s 12ms/step - loss: 3.1747e-04 - val_loss: 3.0284e-04\n",
            "Epoch 84/100\n",
            "60/60 [==============================] - 1s 12ms/step - loss: 3.0210e-04 - val_loss: 2.4450e-04\n",
            "Epoch 85/100\n",
            "60/60 [==============================] - 1s 12ms/step - loss: 2.6080e-04 - val_loss: 3.8798e-04\n",
            "Epoch 86/100\n",
            "60/60 [==============================] - 1s 12ms/step - loss: 2.4767e-04 - val_loss: 2.6018e-04\n",
            "Epoch 87/100\n",
            "60/60 [==============================] - 1s 12ms/step - loss: 3.0422e-04 - val_loss: 2.6578e-04\n",
            "Epoch 88/100\n",
            "60/60 [==============================] - 1s 12ms/step - loss: 3.7521e-04 - val_loss: 3.3147e-04\n",
            "Epoch 89/100\n",
            "60/60 [==============================] - 1s 12ms/step - loss: 2.1812e-04 - val_loss: 2.7839e-04\n",
            "Epoch 90/100\n",
            "60/60 [==============================] - 1s 12ms/step - loss: 2.3123e-04 - val_loss: 3.9607e-04\n",
            "Epoch 91/100\n",
            "60/60 [==============================] - 1s 12ms/step - loss: 2.6177e-04 - val_loss: 2.0233e-04\n",
            "Epoch 92/100\n",
            "60/60 [==============================] - 1s 12ms/step - loss: 2.1420e-04 - val_loss: 2.2549e-04\n",
            "Epoch 93/100\n",
            "60/60 [==============================] - 1s 12ms/step - loss: 2.4966e-04 - val_loss: 2.2179e-04\n",
            "Epoch 94/100\n",
            "60/60 [==============================] - 1s 12ms/step - loss: 1.8523e-04 - val_loss: 2.1735e-04\n",
            "Epoch 95/100\n",
            "60/60 [==============================] - 1s 12ms/step - loss: 2.1791e-04 - val_loss: 2.3026e-04\n",
            "Epoch 96/100\n",
            "60/60 [==============================] - 1s 12ms/step - loss: 2.2777e-04 - val_loss: 2.4260e-04\n",
            "Epoch 97/100\n",
            "60/60 [==============================] - 1s 12ms/step - loss: 2.3919e-04 - val_loss: 2.3039e-04\n",
            "Epoch 98/100\n",
            "60/60 [==============================] - 1s 12ms/step - loss: 2.2464e-04 - val_loss: 3.1876e-04\n",
            "Epoch 99/100\n",
            "60/60 [==============================] - 1s 12ms/step - loss: 2.0963e-04 - val_loss: 1.9471e-04\n",
            "Epoch 100/100\n",
            "60/60 [==============================] - 1s 12ms/step - loss: 2.0434e-04 - val_loss: 1.7382e-04\n"
          ],
          "name": "stdout"
        }
      ]
    },
    {
      "cell_type": "code",
      "metadata": {
        "id": "aL5M1cjHdygt",
        "colab_type": "code",
        "colab": {
          "base_uri": "https://localhost:8080/",
          "height": 279
        },
        "outputId": "0bd16b03-c0c5-49bc-c8d2-d72eac63a644"
      },
      "source": [
        "import matplotlib.pyplot as plt\n",
        "plt.plot(history.history['loss'], 'b-', label='loss')\n",
        "plt.plot(history.history['val_loss'], 'r--', label='val_loss')\n",
        "plt.xlabel('Epoch')\n",
        "plt.legend()\n",
        "plt.show()"
      ],
      "execution_count": 37,
      "outputs": [
        {
          "output_type": "display_data",
          "data": {
            "image/png": "[encoded data removed]",
            "text/plain": [
              "<Figure size 432x288 with 1 Axes>"
            ]
          },
          "metadata": {
            "tags": [],
            "needs_background": "light"
          }
        }
      ]
    },
    {
      "cell_type": "code",
      "metadata": {
        "id": "3ZGXi0Be1XFO",
        "colab_type": "code",
        "colab": {
          "base_uri": "https://localhost:8080/",
          "height": 34
        },
        "outputId": "975ad80b-6e83-47d2-8f08-8765529e4daa"
      },
      "source": [
        "# GRU 정확도 \n",
        "\n",
        "prediction = model.predict(text_X)\n",
        "fail = 0\n",
        "for i in range(len(prediction)):\n",
        "    if abs(prediction[i][0] - text_Y[i]) > 0.04:\n",
        "        fail += 1\n",
        "\n",
        "print('Accuracy : ', (len(prediction)-fail)/len(prediction)*100)"
      ],
      "execution_count": 38,
      "outputs": [
        {
          "output_type": "stream",
          "text": [
            "Accuracy :  99.54545454545455\n"
          ],
          "name": "stdout"
        }
      ]
    },
    {
      "cell_type": "code",
      "metadata": {
        "id": "TtXnZYoo10OY",
        "colab_type": "code",
        "colab": {}
      },
      "source": [
        ""
      ],
      "execution_count": 0,
      "outputs": []
    },
    {
      "cell_type": "code",
      "metadata": {
        "id": "luDxVHzw15p8",
        "colab_type": "code",
        "colab": {}
      },
      "source": [
        ""
      ],
      "execution_count": 0,
      "outputs": []
    }
  ]
}