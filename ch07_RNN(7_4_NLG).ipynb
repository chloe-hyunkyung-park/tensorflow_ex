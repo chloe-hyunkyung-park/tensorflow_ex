{
  "nbformat": 4,
  "nbformat_minor": 0,
  "metadata": {
    "colab": {
      "name": "ch07_RNN(7.4_NLG).ipynb",
      "provenance": [],
      "authorship_tag": "ABX9TyPcupMrhgGsl8EQxl0nS68G",
      "include_colab_link": true
    },
    "kernelspec": {
      "name": "python3",
      "display_name": "Python 3"
    }
  },
  "cells": [
    {
      "cell_type": "markdown",
      "metadata": {
        "id": "view-in-github",
        "colab_type": "text"
      },
      "source": [
        "<a href=\"https://colab.research.google.com/github/chloepark627/tensorflow_ex/blob/master/ch07_RNN(7_4_NLG).ipynb\" target=\"_parent\"><img src=\"https://colab.research.google.com/assets/colab-badge.svg\" alt=\"Open In Colab\"/></a>"
      ]
    },
    {
      "cell_type": "code",
      "metadata": {
        "id": "aYcc2MyKa8T3",
        "colab_type": "code",
        "colab": {}
      },
      "source": [
        "# Natural Language Generation 자연어생성(p.216~)"
      ],
      "execution_count": 0,
      "outputs": []
    },
    {
      "cell_type": "code",
      "metadata": {
        "id": "Vv33HChTbShb",
        "colab_type": "code",
        "colab": {}
      },
      "source": [
        ""
      ],
      "execution_count": 0,
      "outputs": []
    }
  ]
}