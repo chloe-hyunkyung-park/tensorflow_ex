{
  "nbformat": 4,
  "nbformat_minor": 0,
  "metadata": {
    "colab": {
      "name": "ch07_RNN(7.3_SentimentAnalysis).ipynb",
      "provenance": [],
      "collapsed_sections": [],
      "authorship_tag": "ABX9TyOkGQ3EjtJWyeqel3RYYAk8",
      "include_colab_link": true
    },
    "kernelspec": {
      "name": "python3",
      "display_name": "Python 3"
    },
    "accelerator": "GPU"
  },
  "cells": [
    {
      "cell_type": "markdown",
      "metadata": {
        "id": "view-in-github",
        "colab_type": "text"
      },
      "source": [
        "<a href=\"https://colab.research.google.com/github/chloepark627/tensorflow_ex/blob/master/ch07_RNN(7_3_SentimentAnalysis).ipynb\" target=\"_parent\"><img src=\"https://colab.research.google.com/assets/colab-badge.svg\" alt=\"Open In Colab\"/></a>"
      ]
    },
    {
      "cell_type": "code",
      "metadata": {
        "id": "85xK8LGNd8Kw",
        "colab_type": "code",
        "colab": {}
      },
      "source": [
        "import tensorflow as tf\n",
        "import numpy as np"
      ],
      "execution_count": 0,
      "outputs": []
    },
    {
      "cell_type": "code",
      "metadata": {
        "id": "gmlW2bHqeVmi",
        "colab_type": "code",
        "colab": {}
      },
      "source": [
        "path_to_train_file = tf.keras.utils.get_file('train.txt', 'https://raw.githubusercontent.com/e9t/nsmc/master/ratings_train.txt')\n",
        "path_to_test_file = tf.keras.utils.get_file('test.txt', 'https://raw.githubusercontent.com/e9t/nsmc/master/ratings_test.txt')"
      ],
      "execution_count": 0,
      "outputs": []
    },
    {
      "cell_type": "code",
      "metadata": {
        "id": "WF7wZA16eSmq",
        "colab_type": "code",
        "colab": {}
      },
      "source": [
        "train_text = open(path_to_train_file, 'rb').read().decode(encoding='utf-8')\n",
        "test_text = open(path_to_test_file, 'rb').read().decode(encoding='utf-8')"
      ],
      "execution_count": 0,
      "outputs": []
    },
    {
      "cell_type": "code",
      "metadata": {
        "id": "r0KDSHBKehhO",
        "colab_type": "code",
        "outputId": "704d1d61-36a1-4eb0-d7ae-eecf857863a3",
        "colab": {
          "base_uri": "https://localhost:8080/",
          "height": 34
        }
      },
      "source": [
        "print(len(train_text), len(test_text))"
      ],
      "execution_count": 33,
      "outputs": [
        {
          "output_type": "stream",
          "text": [
            "6937271 2318260\n"
          ],
          "name": "stdout"
        }
      ]
    },
    {
      "cell_type": "code",
      "metadata": {
        "id": "p9XrPkCAemjY",
        "colab_type": "code",
        "outputId": "ec9e47db-aeb0-4a1b-bfce-4184fba4d1aa",
        "colab": {
          "base_uri": "https://localhost:8080/",
          "height": 54
        }
      },
      "source": [
        "train_text[:200]"
      ],
      "execution_count": 34,
      "outputs": [
        {
          "output_type": "execute_result",
          "data": {
            "text/plain": [
              "'id\\tdocument\\tlabel\\n9976970\\t아 더빙.. 진짜 짜증나네요 목소리\\t0\\n3819312\\t흠...포스터보고 초딩영화줄....오버연기조차 가볍지 않구나\\t1\\n10265843\\t너무재밓었다그래서보는것을추천한다\\t0\\n9045019\\t교도소 이야기구먼 ..솔직히 재미는 없다..평점 조정\\t0\\n6483659\\t사이몬페그의 익살스런 연기가 돋보였던 영화!스파이더맨에서'"
            ]
          },
          "metadata": {
            "tags": []
          },
          "execution_count": 34
        }
      ]
    },
    {
      "cell_type": "code",
      "metadata": {
        "id": "p9uuK6eaewpu",
        "colab_type": "code",
        "outputId": "39b521ee-3824-4892-ad6f-1ef5a3ad321a",
        "colab": {
          "base_uri": "https://localhost:8080/",
          "height": 119
        }
      },
      "source": [
        "print(train_text[:200]) # 0:neg, 1:pos"
      ],
      "execution_count": 35,
      "outputs": [
        {
          "output_type": "stream",
          "text": [
            "id\tdocument\tlabel\n",
            "9976970\t아 더빙.. 진짜 짜증나네요 목소리\t0\n",
            "3819312\t흠...포스터보고 초딩영화줄....오버연기조차 가볍지 않구나\t1\n",
            "10265843\t너무재밓었다그래서보는것을추천한다\t0\n",
            "9045019\t교도소 이야기구먼 ..솔직히 재미는 없다..평점 조정\t0\n",
            "6483659\t사이몬페그의 익살스런 연기가 돋보였던 영화!스파이더맨에서\n"
          ],
          "name": "stdout"
        }
      ]
    },
    {
      "cell_type": "code",
      "metadata": {
        "id": "zVjWKpsJeyXP",
        "colab_type": "code",
        "colab": {}
      },
      "source": [
        "# Extracting the labels of neg(0) and pos(1)\n",
        "\n",
        "train_Y = np.array([[int(row.split('\\t')[2])] for row in train_text.split('\\n')[1:] if row.count('\\t')>0])\n",
        "test_Y = np.array([[int(row.split('\\t')[2])] for row in test_text.split('\\n')[1:] if row.count('\\t')>0 ])"
      ],
      "execution_count": 0,
      "outputs": []
    },
    {
      "cell_type": "code",
      "metadata": {
        "id": "gkqLYPdv63F9",
        "colab_type": "code",
        "outputId": "83077078-a574-41eb-cc9e-dcc68e88f6c1",
        "colab": {
          "base_uri": "https://localhost:8080/",
          "height": 119
        }
      },
      "source": [
        "print(train_Y.shape, test_Y.shape)\n",
        "print(train_Y[:5])"
      ],
      "execution_count": 37,
      "outputs": [
        {
          "output_type": "stream",
          "text": [
            "(150000, 1) (50000, 1)\n",
            "[[0]\n",
            " [1]\n",
            " [0]\n",
            " [0]\n",
            " [1]]\n"
          ],
          "name": "stdout"
        }
      ]
    },
    {
      "cell_type": "code",
      "metadata": {
        "id": "1tVcKb-S7QXZ",
        "colab_type": "code",
        "outputId": "8da1fd9f-5e90-49ea-af27-446b0bac1ea7",
        "colab": {
          "base_uri": "https://localhost:8080/",
          "height": 255
        }
      },
      "source": [
        "# remove stopwords\n",
        "\n",
        "import re\n",
        "# https://github.com/yoonkim/CNN_sentence/blob/master/process_data.py -> 추가 필요\n",
        "\n",
        "def clean_str(string, TREC=False):\n",
        "    \"\"\"\n",
        "    Tokenization/string cleaning for all datasets except for SST.\n",
        "    Every dataset is lower cased except for TREC\n",
        "    \"\"\"\n",
        "    string = re.sub(r\"[^가-힣A-Za-z0-9(),!?\\'\\`]\", \" \", string)     \n",
        "    string = re.sub(r\"\\'s\", \" \\'s\", string) \n",
        "    string = re.sub(r\"\\'ve\", \" \\'ve\", string) \n",
        "    string = re.sub(r\"n\\'t\", \" n\\'t\", string) \n",
        "    string = re.sub(r\"\\'re\", \" \\'re\", string) \n",
        "    string = re.sub(r\"\\'d\", \" \\'d\", string) \n",
        "    string = re.sub(r\"\\'ll\", \" \\'ll\", string) \n",
        "    string = re.sub(r\",\", \" , \", string) \n",
        "    string = re.sub(r\"!\", \" ! \", string) \n",
        "    string = re.sub(r\"\\(\", \" \\( \", string) \n",
        "    string = re.sub(r\"\\)\", \" \\) \", string) \n",
        "    string = re.sub(r\"\\?\", \" \\? \", string) \n",
        "    string = re.sub(r\"\\s{2,}\", \" \", string)    \n",
        "    string = re.sub(r\"\\'{2,}\", \"\\'\", string)    \n",
        "    string = re.sub(r\"\\'\", \"\", string)    \n",
        "    return string.strip().lower()\n",
        "\n",
        "train_text_X = [row.split('\\t')[1] for row in train_text.split('\\n')[1:] if row.count('\\t')>0]\n",
        "train_text_X = [clean_str(sentence) for sentence in train_text_X]\n",
        "\n",
        "sentences = [sentence.split(' ') for sentence in train_text_X]\n",
        "\n",
        "print(train_text[:200]) # 0:neg, 1:pos\n",
        "print('\\n[정제후]\\n')\n",
        "for i in range(5): print(sentences[i])"
      ],
      "execution_count": 40,
      "outputs": [
        {
          "output_type": "stream",
          "text": [
            "id\tdocument\tlabel\n",
            "9976970\t아 더빙.. 진짜 짜증나네요 목소리\t0\n",
            "3819312\t흠...포스터보고 초딩영화줄....오버연기조차 가볍지 않구나\t1\n",
            "10265843\t너무재밓었다그래서보는것을추천한다\t0\n",
            "9045019\t교도소 이야기구먼 ..솔직히 재미는 없다..평점 조정\t0\n",
            "6483659\t사이몬페그의 익살스런 연기가 돋보였던 영화!스파이더맨에서\n",
            "\n",
            "[정제후]\n",
            "\n",
            "['아', '더빙', '진짜', '짜증나네요', '목소리']\n",
            "['흠', '포스터보고', '초딩영화줄', '오버연기조차', '가볍지', '않구나']\n",
            "['너무재밓었다그래서보는것을추천한다']\n",
            "['교도소', '이야기구먼', '솔직히', '재미는', '없다', '평점', '조정']\n",
            "['사이몬페그의', '익살스런', '연기가', '돋보였던', '영화', '!', '스파이더맨에서', '늙어보이기만', '했던', '커스틴', '던스트가', '너무나도', '이뻐보였다']\n"
          ],
          "name": "stdout"
        }
      ]
    },
    {
      "cell_type": "code",
      "metadata": {
        "id": "E_jZgdrIg0um",
        "colab_type": "code",
        "outputId": "c9d299b9-9ba7-4fa8-d08a-d6e964ffe20d",
        "colab": {
          "base_uri": "https://localhost:8080/",
          "height": 51
        }
      },
      "source": [
        "print(sentences[0])\n",
        "print(len(sentences[0]))"
      ],
      "execution_count": 0,
      "outputs": [
        {
          "output_type": "stream",
          "text": [
            "['아', '더빙', '진짜', '짜증나네요', '목소리']\n",
            "5\n"
          ],
          "name": "stdout"
        }
      ]
    },
    {
      "cell_type": "code",
      "metadata": {
        "id": "--3PJsmD8ZAF",
        "colab_type": "code",
        "outputId": "9b2e41d2-ae7b-4472-cf6a-8fa033b87caf",
        "colab": {
          "base_uri": "https://localhost:8080/",
          "height": 265
        }
      },
      "source": [
        "# 문장내 단어(토큰)의 갯수\n",
        "\n",
        "import matplotlib.pyplot as plt\n",
        "\n",
        "sentence_len = [len(sentence) for sentence in sentences]\n",
        "sentence_len.sort()\n",
        "plt.plot(sentence_len)\n",
        "plt.show()"
      ],
      "execution_count": 41,
      "outputs": [
        {
          "output_type": "display_data",
          "data": {
            "image/png": "[encoded data removed]",
            "text/plain": [
              "<Figure size 432x288 with 1 Axes>"
            ]
          },
          "metadata": {
            "tags": [],
            "needs_background": "light"
          }
        }
      ]
    },
    {
      "cell_type": "code",
      "metadata": {
        "id": "O-GCt-Ig9kOW",
        "colab_type": "code",
        "outputId": "069276b0-6a83-44a6-c1a7-98223a2cd355",
        "colab": {
          "base_uri": "https://localhost:8080/",
          "height": 68
        }
      },
      "source": [
        "# 문장 내 단어(토큰) 갯수가 25개 이하\n",
        "num = sum([int(l<=25) for l in sentence_len])\n",
        "print(num)\n",
        "\n",
        "# 전체 중 차지비율 \n",
        "print(num, len(sentence_len))\n",
        "print(num/len(sentence_len))"
      ],
      "execution_count": 42,
      "outputs": [
        {
          "output_type": "stream",
          "text": [
            "143102\n",
            "143102 150000\n",
            "0.9540133333333334\n"
          ],
          "name": "stdout"
        }
      ]
    },
    {
      "cell_type": "code",
      "metadata": {
        "id": "lTPh-Q1098Qb",
        "colab_type": "code",
        "outputId": "fdc89b9b-87e7-4cc7-a274-712505aec181",
        "colab": {
          "base_uri": "https://localhost:8080/",
          "height": 102
        }
      },
      "source": [
        "for i in range(5):\n",
        "    print(sentences[i], len(sentences[i]))"
      ],
      "execution_count": 0,
      "outputs": [
        {
          "output_type": "stream",
          "text": [
            "['아', '더빙', '진짜', '짜증나네요', '목소리'] 5\n",
            "['흠', '포스터보고', '초딩영화줄', '오버연기조차', '가볍지', '않구나'] 6\n",
            "['너무재밓었다그래서보는것을추천한다'] 1\n",
            "['교도소', '이야기구먼', '솔직히', '재미는', '없다', '평점', '조정'] 7\n",
            "['사이몬페그의', '익살스런', '연기가', '돋보였던', '영화', '!', '스파이더맨에서', '늙어보이기만', '했던', '커스틴', '던스트가', '너무나도', '이뻐보였다'] 13\n"
          ],
          "name": "stdout"
        }
      ]
    },
    {
      "cell_type": "code",
      "metadata": {
        "id": "Vn6uCg7w-0bX",
        "colab_type": "code",
        "outputId": "27d9b1ab-54d1-4941-f557-031d6abd57d7",
        "colab": {
          "base_uri": "https://localhost:8080/",
          "height": 272
        }
      },
      "source": [
        "# 문장 내 각 단어의 최대길이 : 5 설정\n",
        "\n",
        "sentences_new = []\n",
        "for sentence in sentences:\n",
        "    sentences_new.append([word[:5] for word in sentence][:25])\n",
        "    \n",
        "for i in range(5):\n",
        "    print(sentences[i], len(sentences[i]))\n",
        "    print(sentences_new[i], len(sentences_new[i]))\n",
        "    print()\n",
        "\n",
        "sentences = sentences_new"
      ],
      "execution_count": 43,
      "outputs": [
        {
          "output_type": "stream",
          "text": [
            "['아', '더빙', '진짜', '짜증나네요', '목소리'] 5\n",
            "['아', '더빙', '진짜', '짜증나네요', '목소리'] 5\n",
            "\n",
            "['흠', '포스터보고', '초딩영화줄', '오버연기조차', '가볍지', '않구나'] 6\n",
            "['흠', '포스터보고', '초딩영화줄', '오버연기조', '가볍지', '않구나'] 6\n",
            "\n",
            "['너무재밓었다그래서보는것을추천한다'] 1\n",
            "['너무재밓었'] 1\n",
            "\n",
            "['교도소', '이야기구먼', '솔직히', '재미는', '없다', '평점', '조정'] 7\n",
            "['교도소', '이야기구먼', '솔직히', '재미는', '없다', '평점', '조정'] 7\n",
            "\n",
            "['사이몬페그의', '익살스런', '연기가', '돋보였던', '영화', '!', '스파이더맨에서', '늙어보이기만', '했던', '커스틴', '던스트가', '너무나도', '이뻐보였다'] 13\n",
            "['사이몬페그', '익살스런', '연기가', '돋보였던', '영화', '!', '스파이더맨', '늙어보이기', '했던', '커스틴', '던스트가', '너무나도', '이뻐보였다'] 13\n",
            "\n"
          ],
          "name": "stdout"
        }
      ]
    },
    {
      "cell_type": "code",
      "metadata": {
        "id": "5K5EQu6v-9TG",
        "colab_type": "code",
        "colab": {
          "base_uri": "https://localhost:8080/",
          "height": 51
        },
        "outputId": "0e03249b-e80a-4a9a-f22d-abf1c4f2a098"
      },
      "source": [
        "# 토큰화(한글 단어 -> 단어의 인덱스(숫자))\n",
        "\n",
        "from tensorflow.keras.preprocessing.text import Tokenizer\n",
        "from tensorflow.keras.preprocessing.sequence import pad_sequences\n",
        "\n",
        "tokenizer = Tokenizer(num_words=20000)\n",
        "tokenizer.fit_on_texts(sentences)\n",
        "\n",
        "print(sentences[0])\n",
        "train_X = tokenizer.texts_to_sequences(sentences)\n",
        "print(train_X[0])"
      ],
      "execution_count": 47,
      "outputs": [
        {
          "output_type": "stream",
          "text": [
            "['아', '더빙', '진짜', '짜증나네요', '목소리']\n",
            "[24, 884, 7, 5798, 1111]\n"
          ],
          "name": "stdout"
        }
      ]
    },
    {
      "cell_type": "code",
      "metadata": {
        "id": "JZm9IPqejgOz",
        "colab_type": "code",
        "outputId": "e90f0c5b-9641-415f-b02f-eed4a921b15a",
        "colab": {
          "base_uri": "https://localhost:8080/",
          "height": 306
        }
      },
      "source": [
        "# 0패딩추가해서 한 문장 당 25단어(갯수)로 맞추기\n",
        "\n",
        "print(train_X[:5])\n",
        "train_X = pad_sequences(train_X, padding='post')\n",
        "print()\n",
        "print(train_X[:5])"
      ],
      "execution_count": 48,
      "outputs": [
        {
          "output_type": "stream",
          "text": [
            "[[24, 884, 7, 5798, 1111], [588, 5799, 6699], [], [70, 346, 30, 34, 10469], [105, 5338, 3, 1, 2171, 870, 573]]\n",
            "\n",
            "[[   24   884     7  5798  1111     0     0     0     0     0     0     0\n",
            "      0     0     0     0     0     0     0     0     0     0     0     0\n",
            "      0]\n",
            " [  588  5799  6699     0     0     0     0     0     0     0     0     0\n",
            "      0     0     0     0     0     0     0     0     0     0     0     0\n",
            "      0]\n",
            " [    0     0     0     0     0     0     0     0     0     0     0     0\n",
            "      0     0     0     0     0     0     0     0     0     0     0     0\n",
            "      0]\n",
            " [   70   346    30    34 10469     0     0     0     0     0     0     0\n",
            "      0     0     0     0     0     0     0     0     0     0     0     0\n",
            "      0]\n",
            " [  105  5338     3     1  2171   870   573     0     0     0     0     0\n",
            "      0     0     0     0     0     0     0     0     0     0     0     0\n",
            "      0]]\n"
          ],
          "name": "stdout"
        }
      ]
    },
    {
      "cell_type": "code",
      "metadata": {
        "id": "1rttmcRaj6cu",
        "colab_type": "code",
        "outputId": "6b93ce62-8d5b-403b-fb49-e885beae2598",
        "colab": {
          "base_uri": "https://localhost:8080/",
          "height": 51
        }
      },
      "source": [
        "print(tokenizer.index_word[19999])\n",
        "print(tokenizer.index_word[20000])"
      ],
      "execution_count": 0,
      "outputs": [
        {
          "output_type": "stream",
          "text": [
            "짐캐리가\n",
            "필요있나\n"
          ],
          "name": "stdout"
        }
      ]
    },
    {
      "cell_type": "code",
      "metadata": {
        "id": "SDm8j9PrkLFr",
        "colab_type": "code",
        "outputId": "2ee85ef0-d09f-4713-ef49-2dffa294e28c",
        "colab": {
          "base_uri": "https://localhost:8080/",
          "height": 102
        }
      },
      "source": [
        "temp = tokenizer.texts_to_sequences(['경우는', '잊혀질', '연기가', '햇빛이쨍쨍'])\n",
        "print(temp)\n",
        "temp = pad_sequences(temp, padding='post')\n",
        "print(temp)"
      ],
      "execution_count": 0,
      "outputs": [
        {
          "output_type": "stream",
          "text": [
            "[[], [], [105], []]\n",
            "[[  0]\n",
            " [  0]\n",
            " [105]\n",
            " [  0]]\n"
          ],
          "name": "stdout"
        }
      ]
    },
    {
      "cell_type": "code",
      "metadata": {
        "id": "CsJ_yID5kYcz",
        "colab_type": "code",
        "outputId": "7f48b600-91b3-470a-fc4e-404cbeadbd4f",
        "colab": {
          "base_uri": "https://localhost:8080/",
          "height": 255
        }
      },
      "source": [
        "model = tf.keras.Sequential([\n",
        "    tf.keras.layers.Embedding(20000, 300, input_length=25), # 25개의 단어 -> 300(길이)의 벡터(:임베딩 벡터)로 변환\n",
        "    tf.keras.layers.LSTM(units=50),\n",
        "    tf.keras.layers.Dense(2, activation='softmax') # predicted : [neg %, pos %]\n",
        "])\n",
        "\n",
        "model.compile(optimizer='adam', loss='sparse_categorical_crossentropy', metrics=['accuracy'])\n",
        "model.summary()"
      ],
      "execution_count": 49,
      "outputs": [
        {
          "output_type": "stream",
          "text": [
            "Model: \"sequential_1\"\n",
            "_________________________________________________________________\n",
            "Layer (type)                 Output Shape              Param #   \n",
            "=================================================================\n",
            "embedding_1 (Embedding)      (None, 25, 300)           6000000   \n",
            "_________________________________________________________________\n",
            "lstm_1 (LSTM)                (None, 50)                70200     \n",
            "_________________________________________________________________\n",
            "dense_1 (Dense)              (None, 2)                 102       \n",
            "=================================================================\n",
            "Total params: 6,070,302\n",
            "Trainable params: 6,070,302\n",
            "Non-trainable params: 0\n",
            "_________________________________________________________________\n"
          ],
          "name": "stdout"
        }
      ]
    },
    {
      "cell_type": "code",
      "metadata": {
        "id": "DHZWirU-k1s7",
        "colab_type": "code",
        "outputId": "199b78f3-3801-4247-88d1-9a3715f956db",
        "colab": {
          "base_uri": "https://localhost:8080/",
          "height": 187
        }
      },
      "source": [
        "history = model.fit(train_X, train_Y, epochs=5, batch_size=128, validation_split=0.2)"
      ],
      "execution_count": 50,
      "outputs": [
        {
          "output_type": "stream",
          "text": [
            "Epoch 1/5\n",
            "938/938 [==============================] - 58s 62ms/step - loss: 0.4362 - accuracy: 0.7808 - val_loss: 0.3977 - val_accuracy: 0.8086\n",
            "Epoch 2/5\n",
            "938/938 [==============================] - 58s 62ms/step - loss: 0.3255 - accuracy: 0.8465 - val_loss: 0.3925 - val_accuracy: 0.8182\n",
            "Epoch 3/5\n",
            "938/938 [==============================] - 58s 61ms/step - loss: 0.2723 - accuracy: 0.8704 - val_loss: 0.4090 - val_accuracy: 0.8158\n",
            "Epoch 4/5\n",
            "938/938 [==============================] - 58s 61ms/step - loss: 0.2272 - accuracy: 0.8892 - val_loss: 0.4685 - val_accuracy: 0.8061\n",
            "Epoch 5/5\n",
            "938/938 [==============================] - 57s 61ms/step - loss: 0.1938 - accuracy: 0.9043 - val_loss: 0.5527 - val_accuracy: 0.8077\n"
          ],
          "name": "stdout"
        }
      ]
    },
    {
      "cell_type": "code",
      "metadata": {
        "id": "8iXJcfx_m2_4",
        "colab_type": "code",
        "outputId": "7546e9e9-bdc9-480b-a9d4-42b4123fc48f",
        "colab": {
          "base_uri": "https://localhost:8080/",
          "height": 279
        }
      },
      "source": [
        "import matplotlib.pyplot as plt\n",
        "plt.figure(figsize=(12,4))\n",
        "\n",
        "plt.subplot(1, 2, 1)\n",
        "plt.plot(history.history['loss'], 'b-', label='loss')\n",
        "plt.plot(history.history['val_loss'], 'r--', label='val_loss')\n",
        "plt.xlabel('Epoch')\n",
        "plt.legend()\n",
        "\n",
        "plt.subplot(1, 2, 2)\n",
        "plt.plot(history.history['accuracy'], 'b-', label='acc')\n",
        "plt.plot(history.history['val_accuracy'], 'r--', label='val_acc')\n",
        "plt.xlabel('Epoch')\n",
        "plt.legend()\n",
        "\n",
        "plt.show()"
      ],
      "execution_count": 51,
      "outputs": [
        {
          "output_type": "display_data",
          "data": {
            "image/png": "[encoded data removed]",
            "text/plain": [
              "<Figure size 864x288 with 2 Axes>"
            ]
          },
          "metadata": {
            "tags": [],
            "needs_background": "light"
          }
        }
      ]
    },
    {
      "cell_type": "code",
      "metadata": {
        "id": "403Fe3WptYJ3",
        "colab_type": "code",
        "colab": {}
      },
      "source": [
        "test_text_X = [row.split('\\t')[1] for row in test_text.split('\\n')[1:] if row.count('\\t')>0]\n",
        "test_text_X = [clean_str(sentence) for sentence in test_text_X]\n",
        "\n",
        "sentences = [sentence.split() for sentence in test_text_X]\n",
        "\n",
        "sentences_new = list()\n",
        "\n",
        "for sentence in sentences:\n",
        "    sentences_new.append([word[:5] for word in sentence][:25])\n",
        "\n",
        "sentences = sentences_new\n",
        "\n",
        "test_X = tokenizer.texts_to_sequences(sentences)\n",
        "test_X = pad_sequences(test_X, padding='post')"
      ],
      "execution_count": 0,
      "outputs": []
    },
    {
      "cell_type": "code",
      "metadata": {
        "id": "HrtvgXXenvkY",
        "colab_type": "code",
        "colab": {
          "base_uri": "https://localhost:8080/",
          "height": 34
        },
        "outputId": "230df2b0-6a79-454c-b770-506903fae9e7"
      },
      "source": [
        "model.evaluate(test_X, test_Y, verbose=0)"
      ],
      "execution_count": 55,
      "outputs": [
        {
          "output_type": "execute_result",
          "data": {
            "text/plain": [
              "[0.5631316304206848, 0.8006200194358826]"
            ]
          },
          "metadata": {
            "tags": []
          },
          "execution_count": 55
        }
      ]
    },
    {
      "cell_type": "code",
      "metadata": {
        "id": "puF0l5C9rzUy",
        "colab_type": "code",
        "colab": {
          "base_uri": "https://localhost:8080/",
          "height": 442
        },
        "outputId": "27690c4c-9a28-4c13-c191-755f9d4802b7"
      },
      "source": [
        "test_sentence = '내 생각에 이 영화는 지루하고, 너무 따분하고, 재미가 없었다. 내 돈이 아깝다.'\n",
        "test_sentences = test_sentence.split()\n",
        "\n",
        "test_sentence = []\n",
        "now_sentence = []\n",
        "\n",
        "for word in test_sentence:\n",
        "    now_sentence.append(word)\n",
        "    test_sentences.append(now_sentence[:])\n",
        "\n",
        "print(test_sentences)\n",
        "\n",
        "test_X_1 = tokenizer.texts_to_sequences(test_sentences)\n",
        "test_X_1 = pad_sequences(test_X_1, padding='post', maxlen=25)\n",
        "\n",
        "prediction = model.predict(test_X_1)\n",
        "\n",
        "for idx, sentence in enumerate(test_sentences):\n",
        "    print(sentence)\n",
        "    print(prediction[idx])    "
      ],
      "execution_count": 57,
      "outputs": [
        {
          "output_type": "stream",
          "text": [
            "['내', '생각에', '이', '영화는', '지루하고,', '너무', '따분하고,', '재미가', '없었다.', '내', '돈이', '아깝다.']\n",
            "내\n",
            "[0.48412117 0.51587886]\n",
            "생각에\n",
            "[0.07320221 0.9267978 ]\n",
            "이\n",
            "[0.40841252 0.5915875 ]\n",
            "영화는\n",
            "[0.52043843 0.4795616 ]\n",
            "지루하고,\n",
            "[0.96076035 0.03923967]\n",
            "너무\n",
            "[0.6581064  0.34189358]\n",
            "따분하고,\n",
            "[0.97884387 0.02115614]\n",
            "재미가\n",
            "[0.8281296 0.1718704]\n",
            "없었다.\n",
            "[0.6578287  0.34217125]\n",
            "내\n",
            "[0.48412117 0.51587886]\n",
            "돈이\n",
            "[0.96561897 0.03438102]\n",
            "아깝다.\n",
            "[0.9860952  0.01390484]\n"
          ],
          "name": "stdout"
        }
      ]
    },
    {
      "cell_type": "code",
      "metadata": {
        "id": "LQ1n3OZh0_F7",
        "colab_type": "code",
        "colab": {}
      },
      "source": [
        ""
      ],
      "execution_count": 0,
      "outputs": []
    }
  ]
}