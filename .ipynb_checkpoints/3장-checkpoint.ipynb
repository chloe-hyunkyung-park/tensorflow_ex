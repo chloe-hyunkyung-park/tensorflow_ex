{
 "cells": [
  {
   "cell_type": "markdown",
   "metadata": {},
   "source": [
    "# 3장. 텐서플러 2.0 시작하기 (P.31~)"
   ]
  },
  {
   "cell_type": "code",
   "execution_count": 1,
   "metadata": {},
   "outputs": [
    {
     "name": "stdout",
     "output_type": "stream",
     "text": [
      "2.0.0-alpha0\n"
     ]
    }
   ],
   "source": [
    "import tensorflow as tf\n",
    "print(tf.__version__)"
   ]
  },
  {
   "cell_type": "code",
   "execution_count": 7,
   "metadata": {},
   "outputs": [
    {
     "name": "stdout",
     "output_type": "stream",
     "text": [
      "tf.Tensor([0.5231029], shape=(1,), dtype=float32)\n",
      "tf.Tensor([0.87385094 0.79840434 0.41524065 0.08318651], shape=(4,), dtype=float32)\n",
      "tf.Tensor([-0.423842  -0.2822013 -1.0930612  0.8948798], shape=(4,), dtype=float32)\n"
     ]
    }
   ],
   "source": [
    "#3.3.1 난수생성\n",
    "\n",
    "rand = tf.random.uniform([1], 0, 1) #균일분포\n",
    "print(rand)\n",
    "rand = tf.random.uniform([4], 0, 1) #균일분포, 다른 shape\n",
    "print(rand)\n",
    "rand = tf.random.normal([4], 0, 1) #정규분포(음수 포함이 특징)\n",
    "print(rand)"
   ]
  },
  {
   "cell_type": "code",
   "execution_count": 14,
   "metadata": {},
   "outputs": [
    {
     "name": "stdout",
     "output_type": "stream",
     "text": [
      "0.6404653378322973\n"
     ]
    }
   ],
   "source": [
    "#3.3.2 뉴런 만들기\n",
    "\n",
    "import math\n",
    "def sigmoid(x):\n",
    "    return 1/(1+math.exp(-x))\n",
    "x = 1; \n",
    "y = 0; \n",
    "w = tf.random.normal([1], 0, 1);\n",
    "o = sigmoid(x*w) #output\n",
    "print(o)"
   ]
  },
  {
   "cell_type": "code",
   "execution_count": 16,
   "metadata": {},
   "outputs": [
    {
     "name": "stdout",
     "output_type": "stream",
     "text": [
      "99 -0.009395217078296242 0.009395217078296242\n",
      "199 -0.008594630619343065 0.008594630619343065\n",
      "299 -0.007919334347794073 0.007919334347794073\n",
      "399 -0.00734209665899633 0.00734209665899633\n",
      "499 -0.006843058080813633 0.006843058080813633\n",
      "599 -0.006407365996981397 0.006407365996981397\n",
      "699 -0.006023687426330509 0.006023687426330509\n",
      "799 -0.005683246764232643 0.005683246764232643\n",
      "899 -0.00537913603207922 0.00537913603207922\n",
      "999 -0.005105853370135653 0.005105853370135653\n"
     ]
    }
   ],
   "source": [
    "#경사하강법 추가\n",
    "for i in range(1000):\n",
    "    o = sigmoid(x*w)\n",
    "    e = y - o\n",
    "    w = w + x * 0.1 * e #learning rate: 0.1\n",
    "    if i%100 == 99:\n",
    "        print(i, e, o) #e는 작아지고, o는 y에 가까워짐"
   ]
  },
  {
   "cell_type": "code",
   "execution_count": 17,
   "metadata": {},
   "outputs": [
    {
     "name": "stdout",
     "output_type": "stream",
     "text": [
      "99 0.5 0.5\n",
      "199 0.5 0.5\n",
      "299 0.5 0.5\n",
      "399 0.5 0.5\n",
      "499 0.5 0.5\n",
      "599 0.5 0.5\n",
      "699 0.5 0.5\n",
      "799 0.5 0.5\n",
      "899 0.5 0.5\n",
      "999 0.5 0.5\n"
     ]
    }
   ],
   "source": [
    "#x,y값 변경한 뉴런\n",
    "x = 0; \n",
    "y = 1; \n",
    "w = tf.random.normal([1], 0, 1);\n",
    "\n",
    "for i in range(1000):\n",
    "    o = sigmoid(x*w)\n",
    "    e = y - o\n",
    "    w = w + x * 0.1 * e #w,o값이 업데이트 되지 못하는 이유: x=0\n",
    "    if i%100 == 99:\n",
    "        print(i, e, o) #편향이 필요한 이유"
   ]
  },
  {
   "cell_type": "code",
   "execution_count": 19,
   "metadata": {},
   "outputs": [
    {
     "name": "stdout",
     "output_type": "stream",
     "text": [
      "99 0.10042516591454931 0.8995748340854507\n",
      "199 0.051873742732311934 0.9481262572676881\n",
      "299 0.03463116751045159 0.9653688324895484\n",
      "399 0.02591265434640533 0.9740873456535947\n",
      "499 0.02067344138304883 0.9793265586169512\n",
      "599 0.017184470749150194 0.9828155292508498\n",
      "699 0.014697003481706217 0.9853029965182938\n",
      "799 0.012835259839539703 0.9871647401604603\n",
      "899 0.011390136706529885 0.9886098632934701\n",
      "999 0.010236183558293033 0.989763816441707\n"
     ]
    }
   ],
   "source": [
    "#편향 추가\n",
    "x = 0; \n",
    "y = 1; \n",
    "w = tf.random.normal([1], 0, 1);\n",
    "b = tf.random.normal([1], 0, 1);\n",
    "\n",
    "for i in range(1000):\n",
    "    o = sigmoid(x*w + 1*b) #편향추가!\n",
    "    e = y - o\n",
    "    w = w + x * 0.1 * e \n",
    "    b = b + 1 * 0.1 * e #편향도 업데이트\n",
    "    \n",
    "    if i%100 == 99:\n",
    "        print(i, e, o) "
   ]
  },
  {
   "cell_type": "code",
   "execution_count": 24,
   "metadata": {},
   "outputs": [
    {
     "data": {
      "text/plain": [
       "array([0.02, 0.06])"
      ]
     },
     "execution_count": 24,
     "metadata": {},
     "output_type": "execute_result"
    }
   ],
   "source": [
    "np.array([0.2, 0.3]) * np.array([0.1, 0.2]) #element-wise"
   ]
  },
  {
   "cell_type": "code",
   "execution_count": 25,
   "metadata": {},
   "outputs": [
    {
     "data": {
      "text/plain": [
       "0.08"
      ]
     },
     "execution_count": 25,
     "metadata": {},
     "output_type": "execute_result"
    }
   ],
   "source": [
    "np.sum(np.array([0.2, 0.3]) * np.array([0.1, 0.2]))"
   ]
  },
  {
   "cell_type": "code",
   "execution_count": 21,
   "metadata": {},
   "outputs": [
    {
     "name": "stdout",
     "output_type": "stream",
     "text": [
      "199 -0.11823103090729717\n",
      "399 -0.06840701329015322\n",
      "599 -0.04804247660252148\n",
      "799 -0.036910561778042264\n",
      "999 -0.029909822498430154\n",
      "1199 -0.025110373947388083\n",
      "1399 -0.021621143050679477\n",
      "1599 -0.01897407741499487\n",
      "1799 -0.01689589615064097\n",
      "1999 -0.015225177502833863\n"
     ]
    }
   ],
   "source": [
    "#3.3.3 첫 번째 신경망 네트워크:AND\n",
    "\n",
    "import numpy as np\n",
    " \n",
    "x = np.array([[1,1], [1,0], [0,1], [0,0]])\n",
    "y = np.array([[1], [0], [0], [0]])\n",
    "w = tf.random.normal([2], 0, 1)\n",
    "b = tf.random.normal([1], 0, 1)\n",
    "b_x = 1 #####왜 1?\n",
    "for i in range(2000):\n",
    "    e_sum = 0\n",
    "    for j in range(4):\n",
    "        o = sigmoid(np.sum(x[j]*w) + b_x*b)\n",
    "        e = y[j][0] - o\n",
    "        w = w + x[j]*0.1*e\n",
    "        b = b + b_x*0.1*e\n",
    "        e_sum += e\n",
    "    \n",
    "    if i%200 == 199:\n",
    "        print(i, e_sum) #e_sum이 점차 감소\n"
   ]
  },
  {
   "cell_type": "code",
   "execution_count": 26,
   "metadata": {},
   "outputs": [
    {
     "name": "stdout",
     "output_type": "stream",
     "text": [
      "X:  [1 1] Y:  [1] Output:  0.9644566813236105\n",
      "X:  [1 0] Y:  [0] Output:  0.02518518599558183\n",
      "X:  [0 1] Y:  [0] Output:  0.02526315339182315\n",
      "X:  [0 0] Y:  [0] Output:  2.467673799378661e-05\n"
     ]
    }
   ],
   "source": [
    "# 학습된 w,b로 값 예측\n",
    "\n",
    "for i in range(4):\n",
    "    print('X: ', x[i], 'Y: ', y[i], 'Output: ', sigmoid(np.sum(x[i]*w) + b))"
   ]
  },
  {
   "cell_type": "code",
   "execution_count": null,
   "metadata": {},
   "outputs": [],
   "source": [
    "#3.3.4 2 번째 신경망 네트워크:OR\n",
    "\n"
   ]
  }
 ],
 "metadata": {
  "kernelspec": {
   "display_name": "Python 3",
   "language": "python",
   "name": "python3"
  },
  "language_info": {
   "codemirror_mode": {
    "name": "ipython",
    "version": 3
   },
   "file_extension": ".py",
   "mimetype": "text/x-python",
   "name": "python",
   "nbconvert_exporter": "python",
   "pygments_lexer": "ipython3",
   "version": "3.7.3"
  }
 },
 "nbformat": 4,
 "nbformat_minor": 2
}
