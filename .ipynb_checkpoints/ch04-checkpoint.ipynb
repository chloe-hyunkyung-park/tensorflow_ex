{
 "cells": [
  {
   "cell_type": "code",
   "execution_count": 13,
   "metadata": {},
   "outputs": [],
   "source": [
    "import matplotlib.pyplot as plt\n",
    "\n",
    "#2018년 지역별 인구증가율\n",
    "population_inc = [\n",
    "    0.3, \n",
    "    -0.78,\n",
    "    1.26,\n",
    "    0.03,\n",
    "    1.11,\n",
    "    15.17,\n",
    "    0.24,\n",
    "    -0.24,\n",
    "    -0.47,\n",
    "    -0.77,\n",
    "    -0.37,\n",
    "    -0.85,\n",
    "    -0.41,\n",
    "    -0.27,\n",
    "    0.02,\n",
    "    -0.76,\n",
    "    2.66\n",
    "]\n",
    "\n",
    "#2018년 지역별 고령인구비율\n",
    "population_old = [\n",
    "    12.27,\n",
    "    14.44,\n",
    "    11.87,\n",
    "    18.75,\n",
    "    17.52,\n",
    "    9.29,\n",
    "    16.37,\n",
    "    19.78,\n",
    "    19.51,\n",
    "    12.65,\n",
    "    14.74,\n",
    "    10.72,\n",
    "    21.94,\n",
    "    12.83,\n",
    "    15.51,\n",
    "    17.14,\n",
    "    14.42\n",
    "]"
   ]
  },
  {
   "cell_type": "code",
   "execution_count": 14,
   "metadata": {},
   "outputs": [
    {
     "data": {
      "image/png": "[encoded data removed]",
      "text/plain": [
       "<Figure size 432x288 with 1 Axes>"
      ]
     },
     "metadata": {
      "needs_background": "light"
     },
     "output_type": "display_data"
    }
   ],
   "source": [
    "plt.plot(population_inc, population_old, 'bo')\n",
    "plt.xlabel('population growth rate')\n",
    "plt.ylabel('elderly population rate')\n",
    "plt.show()"
   ]
  },
  {
   "cell_type": "code",
   "execution_count": 15,
   "metadata": {},
   "outputs": [
    {
     "name": "stdout",
     "output_type": "stream",
     "text": [
      "5\n",
      "15.17\n",
      "9.29\n",
      "[0.3, -0.78, 1.26, 0.03, 1.11, 0.24, -0.24, -0.47, -0.77, -0.37, -0.85, -0.41, -0.27, 0.02, -0.76, 2.66]\n",
      "[12.27, 14.44, 11.87, 18.75, 17.52, 16.37, 19.78, 19.51, 12.65, 14.74, 10.72, 21.94, 12.83, 15.51, 17.14, 14.42]\n"
     ]
    }
   ],
   "source": [
    "# 극단치(outlier) 제거\n",
    "outlier = population_inc.index(15.17)\n",
    "print(outlier)\n",
    "\n",
    "print(population_inc.pop(outlier))\n",
    "print(population_old.pop(outlier))\n",
    "\n",
    "print('[After removing the outlier]')\n",
    "print(population_inc)\n",
    "print(population_old)"
   ]
  },
  {
   "cell_type": "code",
   "execution_count": null,
   "metadata": {},
   "outputs": [],
   "source": [
    "# 최소제곱법(least square method): 잔차의 제곱을 최소화하는 알고리즘. 기울기와 절편을 직접 계산할 수 있는 공식!\n",
    "import numpy as np\n",
    "import matplotlib.pyplot as plt\n",
    "\n",
    "X = population_inc\n",
    "Y = population_old\n",
    "\n",
    "x_bar = sum(X)/len(X)\n",
    "y_bar = sum(Y)/len(Y)\n",
    "\n",
    "a = sum([])\n"
   ]
  }
 ],
 "metadata": {
  "kernelspec": {
   "display_name": "Python 3",
   "language": "python",
   "name": "python3"
  },
  "language_info": {
   "codemirror_mode": {
    "name": "ipython",
    "version": 3
   },
   "file_extension": ".py",
   "mimetype": "text/x-python",
   "name": "python",
   "nbconvert_exporter": "python",
   "pygments_lexer": "ipython3",
   "version": "3.7.3"
  }
 },
 "nbformat": 4,
 "nbformat_minor": 2
}
